{
 "cells": [
  {
   "cell_type": "markdown",
   "metadata": {},
   "source": [
    "# System and Network Exploitation 101\n",
    "## Table of Contents\n",
    "- **[Setup Hacking VM](./SetupVM.ipynb)**<br>\n",
    "- **[Hacking Tools](./HackingTools.ipynb)** <br>\n",
    "- **[Linux Command Fundamentals](https://github.com/rambasnet/LinuxCommand-Notebooks)**<br>\n",
    "- **[Bash Fundamentals](https://github.com/rambasnet/BashNotebooks)**<br>\n",
    "- **[C Fundamentals](https://github.com/rambasnet/CFundamentals)**<br>\n",
    "- **[Capture The Flag](./CTF.ipynb)** <br>\n",
    "- **[ELF Binary Format](./ELF.ipynb)**<br>\n",
    "- **[Fast and Easy Hacking](./FastAndEasyHacking.ipynb)**<br>\n",
    "- **[Buffer Overflow Protections](./BufferOverflowProtections.ipynb)**<br>\n",
    "- **[C/C++ Program Memory Segments](./MemorySegments.ipynb)**<br>\n",
    "- **[x86 Assembly and Stack](./x86-AssemblyAndStack.ipynb)**<br>\n",
    "- **[GDB & PEDA](./GDB-Peda.ipynb)**<br>\n",
    "- **[Buffer Overflow Exploitations](./BufferOverflowExploitations.ipynb)**<br>\n",
    "- **[Exploiting Function Pointers](./OverflowingFunctionPointers.ipynb)**<br>\n",
    "- **[Format Strings Vulnerability & Exploitations](./FormatStrings.ipynb)**<br>"
   ]
  },
  {
   "cell_type": "code",
   "execution_count": null,
   "metadata": {},
   "outputs": [],
   "source": []
  }
 ],
 "metadata": {
  "kernelspec": {
   "display_name": "Python 3",
   "language": "python",
   "name": "python3"
  },
  "language_info": {
   "codemirror_mode": {
    "name": "ipython",
    "version": 3
   },
   "file_extension": ".py",
   "mimetype": "text/x-python",
   "name": "python",
   "nbconvert_exporter": "python",
   "pygments_lexer": "ipython3",
   "version": "3.8.3"
  }
 },
 "nbformat": 4,
 "nbformat_minor": 2
}
